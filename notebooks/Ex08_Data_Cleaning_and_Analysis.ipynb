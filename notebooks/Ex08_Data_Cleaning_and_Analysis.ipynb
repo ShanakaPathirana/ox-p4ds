{
 "cells": [
  {
   "cell_type": "markdown",
   "metadata": {},
   "source": [
    "# Exercise 8: Data Cleaning and Analysis\n",
    "\n",
    "Welcome to Exercise 8!\n",
    "\n",
    "This exercise is a more free-form challenge than the previous ones you have completed. What I would like you to do is to demonstrate some of what you have learned in the previous exercises with another dataset.\n",
    "\n",
    "<img src=\"images/london2012.gif\"/>\n",
    "\n",
    "First, by running the cell below we can display a sample of 25 rows from a CSV file containing records about athletes who competed in the London 2012 Olympics. This is a data set produced summarizing data prepared by the Guardian newspaper originally found [here](https://docs.google.com/spreadsheets/d/1CKSOQcrPDhxniv-V1FVFAo2rVXrguBCOFAsGZ_IwPJo/edit#gid=0)."
   ]
  },
  {
   "cell_type": "code",
   "execution_count": null,
   "metadata": {},
   "outputs": [],
   "source": [
    "import pandas as pd\n",
    "pd.read_csv('https://raw.githubusercontent.com/djcomlab/olympics-graphs/master/london2012-olympics-v3.csv').sample(25)"
   ]
  },
  {
   "cell_type": "markdown",
   "metadata": {},
   "source": [
    "## The Challenge\n",
    "\n",
    "By adding your own code in your own Jupyter Notebook cells below (you can add a cell by pressing the `+` button in the toolbar), try and answer some of the following questions about this data set:\n",
    "* How many rows are in this data set?\n",
    "* Apply some filtering to remove rows that might be incomplete or have errors. How many rows remain after your filters are applied?\n",
    "* How many atheletes are in the data set?\n",
    "* Which athlete competed in the most events?\n",
    "* How many countries are present in the data set?\n",
    "* Which country fielded the most athletes?\n",
    "* Produce a medals table showing which countries gained the most of Gold, Silver and Bronze medals.\n",
    "* What is the average age, height, and weight for each country's olympic teams?\n",
    "* As per last question, but by Male and Female athletes.\n",
    "* Finally, calculate the [Body Mass Index (BMI)](https://en.wikipedia.org/wiki/Body_mass_index) for each athlete in the data set, and display the top 10 rows for male athletes, and again for female athletes.\n",
    "\n",
    "If you comfortably work out answers for all of these, feel free to add your own analyses!"
   ]
  },
  {
   "cell_type": "code",
   "execution_count": null,
   "metadata": {},
   "outputs": [],
   "source": []
  },
  {
   "cell_type": "code",
   "execution_count": null,
   "metadata": {},
   "outputs": [],
   "source": []
  },
  {
   "cell_type": "markdown",
   "metadata": {},
   "source": [
    "When you are finished:\n",
    "\n",
    "If you are running this notebook using Binder, choose **Save and Checkpoint** from the **File** menu, **rename** your notebook to add a hyphen and your initials to the notebook name e.g. `Ex08_Data_Cleaning_and_Analysis-DJ`, then choose **Download as Notebook** and save it to your computer or USB stick.\n",
    "\n",
    "If you are running this notebook on your own machine, choose **Save and Checkpoint** from the **File** menu, choose **Make a copy** from the **File** menu, then **rename** your notebook to add a hyphen and your initials to the notebook name e.g. rename from `Ex08_Data_Cleaning_and_Analysis-Copy1` to `Ex08_Data_Cleaning_and_Analysis-DJ`."
   ]
  },
  {
   "cell_type": "code",
   "execution_count": null,
   "metadata": {},
   "outputs": [],
   "source": []
  },
  {
   "cell_type": "markdown",
   "metadata": {},
   "source": [
    "<sup>Copyright © David Johnson, 2018. This notebook is provided for use with permission for the Michaelmas Term 2018 University of Oxford course \"Programming for Data Science\".</sup>"
   ]
  },
  {
   "cell_type": "code",
   "execution_count": null,
   "metadata": {},
   "outputs": [],
   "source": []
  }
 ],
 "metadata": {
  "kernelspec": {
   "display_name": "Python 3",
   "language": "python",
   "name": "python3"
  },
  "language_info": {
   "codemirror_mode": {
    "name": "ipython",
    "version": 3
   },
   "file_extension": ".py",
   "mimetype": "text/x-python",
   "name": "python",
   "nbconvert_exporter": "python",
   "pygments_lexer": "ipython3",
   "version": "3.6.7"
  }
 },
 "nbformat": 4,
 "nbformat_minor": 2
}
