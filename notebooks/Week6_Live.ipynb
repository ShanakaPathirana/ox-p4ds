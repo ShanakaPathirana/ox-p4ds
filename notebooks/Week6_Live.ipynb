{
 "cells": [
  {
   "cell_type": "code",
   "execution_count": 1,
   "metadata": {},
   "outputs": [],
   "source": [
    "import numpy as np"
   ]
  },
  {
   "cell_type": "code",
   "execution_count": 2,
   "metadata": {},
   "outputs": [],
   "source": [
    "np.random.seed(444)\n",
    "np.set_printoptions(precision=3)\n",
    "\n",
    "distr_00 = np.random.normal(loc=100, scale=12, size=600)"
   ]
  },
  {
   "cell_type": "code",
   "execution_count": 4,
   "metadata": {},
   "outputs": [
    {
     "data": {
      "text/plain": [
       "array([104.289, 104.53 , 116.588, 114.107,  88.729,  86.282,  93.491,\n",
       "        93.416, 102.502, 102.552, 115.216,  90.312,  60.363,  90.32 ,\n",
       "        95.676])"
      ]
     },
     "execution_count": 4,
     "metadata": {},
     "output_type": "execute_result"
    }
   ],
   "source": [
    "distr_00[:15]"
   ]
  },
  {
   "cell_type": "code",
   "execution_count": 5,
   "metadata": {},
   "outputs": [
    {
     "data": {
      "text/plain": [
       "array([  3,  21,  24,  74, 138, 149,  94,  67,  22,   8])"
      ]
     },
     "execution_count": 5,
     "metadata": {},
     "output_type": "execute_result"
    }
   ],
   "source": [
    "hist, bin_edges = np.histogram(distr_00)\n",
    "hist"
   ]
  },
  {
   "cell_type": "code",
   "execution_count": 6,
   "metadata": {},
   "outputs": [
    {
     "data": {
      "text/plain": [
       "array([ 60.363,  67.93 ,  75.498,  83.065,  90.632,  98.199, 105.766,\n",
       "       113.333, 120.901, 128.468, 136.035])"
      ]
     },
     "execution_count": 6,
     "metadata": {},
     "output_type": "execute_result"
    }
   ],
   "source": [
    "bin_edges"
   ]
  },
  {
   "cell_type": "code",
   "execution_count": 7,
   "metadata": {},
   "outputs": [
    {
     "data": {
      "text/plain": [
       "(10, 11)"
      ]
     },
     "execution_count": 7,
     "metadata": {},
     "output_type": "execute_result"
    }
   ],
   "source": [
    "hist.size, bin_edges.size"
   ]
  },
  {
   "cell_type": "code",
   "execution_count": 8,
   "metadata": {},
   "outputs": [],
   "source": [
    "np.histogram?"
   ]
  },
  {
   "cell_type": "code",
   "execution_count": 10,
   "metadata": {},
   "outputs": [
    {
     "data": {
      "text/plain": [
       "(60.363140280458516, 136.03494544194604)"
      ]
     },
     "execution_count": 10,
     "metadata": {},
     "output_type": "execute_result"
    }
   ],
   "source": [
    "first_edge, last_edge = bin_edges.min(), bin_edges.max()\n",
    "first_edge, last_edge"
   ]
  },
  {
   "cell_type": "code",
   "execution_count": 11,
   "metadata": {},
   "outputs": [
    {
     "data": {
      "text/plain": [
       "(60.363140280458516, 136.03494544194604)"
      ]
     },
     "execution_count": 11,
     "metadata": {},
     "output_type": "execute_result"
    }
   ],
   "source": [
    "distr_00.min(), distr_00.max()"
   ]
  },
  {
   "cell_type": "code",
   "execution_count": 14,
   "metadata": {},
   "outputs": [
    {
     "data": {
      "text/plain": [
       "(0.0, 90.0)"
      ]
     },
     "execution_count": 14,
     "metadata": {},
     "output_type": "execute_result"
    },
    {
     "data": {
      "image/png": "[encoded data removed]",
      "text/plain": [
       "<Figure size 432x288 with 1 Axes>"
      ]
     },
     "metadata": {
      "needs_background": "light"
     },
     "output_type": "display_data"
    }
   ],
   "source": [
    "import matplotlib.pyplot as plt\n",
    "\n",
    "n, bins, patches = plt.hist(x=distr_00, bins='auto', color='blue', rwidth=0.85)\n",
    "plt.grid(axis='y')\n",
    "plt.xlabel('Value')\n",
    "plt.ylabel('Frequency')\n",
    "plt.title('Histogram Distribution')\n",
    "plt.text(120, 50, r'$\\mu=100, \\sigma=12$')\n",
    "maxfreq = n.max()\n",
    "plt.ylim(top=np.ceil(maxfreq/10) * 10 if maxfreq % 10 else maxfreq + 10)"
   ]
  },
  {
   "cell_type": "code",
   "execution_count": 15,
   "metadata": {},
   "outputs": [],
   "source": [
    "import pandas as pd\n",
    "countries = ['Japan', 'Italy', 'USA', 'Cuba', 'Russia', 'Angola']\n",
    "means = 83.7, 82.7, 79.3, 79.1, 70.5, 52.4\n",
    "stdevs = 5.2, 5.2, 5.2, 5.1, 5.0, 4.8\n",
    "dist = pd.DataFrame(\n",
    "    np.random.normal(loc=means, scale=stdevs, size=(2000, 6)),\n",
    "    columns=countries\n",
    ")"
   ]
  },
  {
   "cell_type": "code",
   "execution_count": 16,
   "metadata": {},
   "outputs": [
    {
     "data": {
      "text/html": [
       "<div>\n",
       "<style scoped>\n",
       "    .dataframe tbody tr th:only-of-type {\n",
       "        vertical-align: middle;\n",
       "    }\n",
       "\n",
       "    .dataframe tbody tr th {\n",
       "        vertical-align: top;\n",
       "    }\n",
       "\n",
       "    .dataframe thead th {\n",
       "        text-align: right;\n",
       "    }\n",
       "</style>\n",
       "<table border=\"1\" class=\"dataframe\">\n",
       "  <thead>\n",
       "    <tr style=\"text-align: right;\">\n",
       "      <th></th>\n",
       "      <th>Japan</th>\n",
       "      <th>Italy</th>\n",
       "      <th>USA</th>\n",
       "      <th>Cuba</th>\n",
       "      <th>Russia</th>\n",
       "      <th>Angola</th>\n",
       "    </tr>\n",
       "  </thead>\n",
       "  <tbody>\n",
       "    <tr>\n",
       "      <th>min</th>\n",
       "      <td>66.51</td>\n",
       "      <td>65.56</td>\n",
       "      <td>62.27</td>\n",
       "      <td>62.47</td>\n",
       "      <td>53.27</td>\n",
       "      <td>34.51</td>\n",
       "    </tr>\n",
       "    <tr>\n",
       "      <th>max</th>\n",
       "      <td>99.86</td>\n",
       "      <td>100.15</td>\n",
       "      <td>96.48</td>\n",
       "      <td>95.21</td>\n",
       "      <td>88.66</td>\n",
       "      <td>69.38</td>\n",
       "    </tr>\n",
       "    <tr>\n",
       "      <th>mean</th>\n",
       "      <td>83.67</td>\n",
       "      <td>82.73</td>\n",
       "      <td>79.15</td>\n",
       "      <td>78.93</td>\n",
       "      <td>70.36</td>\n",
       "      <td>52.38</td>\n",
       "    </tr>\n",
       "    <tr>\n",
       "      <th>std</th>\n",
       "      <td>5.17</td>\n",
       "      <td>5.19</td>\n",
       "      <td>5.25</td>\n",
       "      <td>4.92</td>\n",
       "      <td>5.01</td>\n",
       "      <td>4.76</td>\n",
       "    </tr>\n",
       "  </tbody>\n",
       "</table>\n",
       "</div>"
      ],
      "text/plain": [
       "      Japan   Italy    USA   Cuba  Russia  Angola\n",
       "min   66.51   65.56  62.27  62.47   53.27   34.51\n",
       "max   99.86  100.15  96.48  95.21   88.66   69.38\n",
       "mean  83.67   82.73  79.15  78.93   70.36   52.38\n",
       "std    5.17    5.19   5.25   4.92    5.01    4.76"
      ]
     },
     "execution_count": 16,
     "metadata": {},
     "output_type": "execute_result"
    }
   ],
   "source": [
    "dist.agg(['min', 'max', 'mean', 'std']).round(decimals=2)"
   ]
  },
  {
   "cell_type": "code",
   "execution_count": 17,
   "metadata": {},
   "outputs": [
    {
     "data": {
      "text/html": [
       "<div>\n",
       "<style scoped>\n",
       "    .dataframe tbody tr th:only-of-type {\n",
       "        vertical-align: middle;\n",
       "    }\n",
       "\n",
       "    .dataframe tbody tr th {\n",
       "        vertical-align: top;\n",
       "    }\n",
       "\n",
       "    .dataframe thead th {\n",
       "        text-align: right;\n",
       "    }\n",
       "</style>\n",
       "<table border=\"1\" class=\"dataframe\">\n",
       "  <thead>\n",
       "    <tr style=\"text-align: right;\">\n",
       "      <th></th>\n",
       "      <th>Japan</th>\n",
       "      <th>Italy</th>\n",
       "      <th>USA</th>\n",
       "      <th>Cuba</th>\n",
       "      <th>Russia</th>\n",
       "      <th>Angola</th>\n",
       "    </tr>\n",
       "  </thead>\n",
       "  <tbody>\n",
       "    <tr>\n",
       "      <th>0</th>\n",
       "      <td>89.626835</td>\n",
       "      <td>89.354187</td>\n",
       "      <td>81.003545</td>\n",
       "      <td>78.555254</td>\n",
       "      <td>67.744527</td>\n",
       "      <td>43.891303</td>\n",
       "    </tr>\n",
       "    <tr>\n",
       "      <th>1</th>\n",
       "      <td>79.926959</td>\n",
       "      <td>84.225790</td>\n",
       "      <td>73.835234</td>\n",
       "      <td>78.192026</td>\n",
       "      <td>71.739542</td>\n",
       "      <td>50.620011</td>\n",
       "    </tr>\n",
       "    <tr>\n",
       "      <th>2</th>\n",
       "      <td>85.272054</td>\n",
       "      <td>76.132075</td>\n",
       "      <td>83.180460</td>\n",
       "      <td>70.501275</td>\n",
       "      <td>72.607142</td>\n",
       "      <td>51.081781</td>\n",
       "    </tr>\n",
       "    <tr>\n",
       "      <th>3</th>\n",
       "      <td>84.587564</td>\n",
       "      <td>90.358399</td>\n",
       "      <td>85.665447</td>\n",
       "      <td>68.108925</td>\n",
       "      <td>68.586091</td>\n",
       "      <td>53.224689</td>\n",
       "    </tr>\n",
       "    <tr>\n",
       "      <th>4</th>\n",
       "      <td>83.915349</td>\n",
       "      <td>84.358073</td>\n",
       "      <td>74.032764</td>\n",
       "      <td>83.223849</td>\n",
       "      <td>71.041935</td>\n",
       "      <td>50.343658</td>\n",
       "    </tr>\n",
       "  </tbody>\n",
       "</table>\n",
       "</div>"
      ],
      "text/plain": [
       "       Japan      Italy        USA       Cuba     Russia     Angola\n",
       "0  89.626835  89.354187  81.003545  78.555254  67.744527  43.891303\n",
       "1  79.926959  84.225790  73.835234  78.192026  71.739542  50.620011\n",
       "2  85.272054  76.132075  83.180460  70.501275  72.607142  51.081781\n",
       "3  84.587564  90.358399  85.665447  68.108925  68.586091  53.224689\n",
       "4  83.915349  84.358073  74.032764  83.223849  71.041935  50.343658"
      ]
     },
     "execution_count": 17,
     "metadata": {},
     "output_type": "execute_result"
    }
   ],
   "source": [
    "dist.head()"
   ]
  },
  {
   "cell_type": "code",
   "execution_count": 18,
   "metadata": {},
   "outputs": [
    {
     "data": {
      "text/html": [
       "<div>\n",
       "<style scoped>\n",
       "    .dataframe tbody tr th:only-of-type {\n",
       "        vertical-align: middle;\n",
       "    }\n",
       "\n",
       "    .dataframe tbody tr th {\n",
       "        vertical-align: top;\n",
       "    }\n",
       "\n",
       "    .dataframe thead th {\n",
       "        text-align: right;\n",
       "    }\n",
       "</style>\n",
       "<table border=\"1\" class=\"dataframe\">\n",
       "  <thead>\n",
       "    <tr style=\"text-align: right;\">\n",
       "      <th></th>\n",
       "      <th>Japan</th>\n",
       "      <th>Italy</th>\n",
       "      <th>USA</th>\n",
       "      <th>Cuba</th>\n",
       "      <th>Russia</th>\n",
       "      <th>Angola</th>\n",
       "    </tr>\n",
       "  </thead>\n",
       "  <tbody>\n",
       "    <tr>\n",
       "      <th>0</th>\n",
       "      <td>89.626835</td>\n",
       "      <td>89.354187</td>\n",
       "      <td>81.003545</td>\n",
       "      <td>78.555254</td>\n",
       "      <td>67.744527</td>\n",
       "      <td>43.891303</td>\n",
       "    </tr>\n",
       "    <tr>\n",
       "      <th>1</th>\n",
       "      <td>79.926959</td>\n",
       "      <td>84.225790</td>\n",
       "      <td>73.835234</td>\n",
       "      <td>78.192026</td>\n",
       "      <td>71.739542</td>\n",
       "      <td>50.620011</td>\n",
       "    </tr>\n",
       "    <tr>\n",
       "      <th>2</th>\n",
       "      <td>85.272054</td>\n",
       "      <td>76.132075</td>\n",
       "      <td>83.180460</td>\n",
       "      <td>70.501275</td>\n",
       "      <td>72.607142</td>\n",
       "      <td>51.081781</td>\n",
       "    </tr>\n",
       "    <tr>\n",
       "      <th>3</th>\n",
       "      <td>84.587564</td>\n",
       "      <td>90.358399</td>\n",
       "      <td>85.665447</td>\n",
       "      <td>68.108925</td>\n",
       "      <td>68.586091</td>\n",
       "      <td>53.224689</td>\n",
       "    </tr>\n",
       "    <tr>\n",
       "      <th>4</th>\n",
       "      <td>83.915349</td>\n",
       "      <td>84.358073</td>\n",
       "      <td>74.032764</td>\n",
       "      <td>83.223849</td>\n",
       "      <td>71.041935</td>\n",
       "      <td>50.343658</td>\n",
       "    </tr>\n",
       "    <tr>\n",
       "      <th>5</th>\n",
       "      <td>82.742477</td>\n",
       "      <td>87.113141</td>\n",
       "      <td>73.609107</td>\n",
       "      <td>77.509012</td>\n",
       "      <td>72.576959</td>\n",
       "      <td>51.841855</td>\n",
       "    </tr>\n",
       "    <tr>\n",
       "      <th>6</th>\n",
       "      <td>82.296454</td>\n",
       "      <td>80.640078</td>\n",
       "      <td>79.517836</td>\n",
       "      <td>79.026255</td>\n",
       "      <td>69.058281</td>\n",
       "      <td>58.196454</td>\n",
       "    </tr>\n",
       "    <tr>\n",
       "      <th>7</th>\n",
       "      <td>79.075080</td>\n",
       "      <td>86.343906</td>\n",
       "      <td>84.415543</td>\n",
       "      <td>76.451494</td>\n",
       "      <td>67.386277</td>\n",
       "      <td>52.653026</td>\n",
       "    </tr>\n",
       "    <tr>\n",
       "      <th>8</th>\n",
       "      <td>79.260548</td>\n",
       "      <td>77.357104</td>\n",
       "      <td>71.977351</td>\n",
       "      <td>79.344022</td>\n",
       "      <td>74.651777</td>\n",
       "      <td>50.222289</td>\n",
       "    </tr>\n",
       "    <tr>\n",
       "      <th>9</th>\n",
       "      <td>87.394614</td>\n",
       "      <td>73.480055</td>\n",
       "      <td>80.278396</td>\n",
       "      <td>76.886345</td>\n",
       "      <td>79.004706</td>\n",
       "      <td>52.445712</td>\n",
       "    </tr>\n",
       "    <tr>\n",
       "      <th>10</th>\n",
       "      <td>86.981349</td>\n",
       "      <td>89.532129</td>\n",
       "      <td>81.709588</td>\n",
       "      <td>75.446434</td>\n",
       "      <td>68.373685</td>\n",
       "      <td>58.935454</td>\n",
       "    </tr>\n",
       "    <tr>\n",
       "      <th>11</th>\n",
       "      <td>85.709055</td>\n",
       "      <td>91.868261</td>\n",
       "      <td>86.676801</td>\n",
       "      <td>72.712540</td>\n",
       "      <td>59.950481</td>\n",
       "      <td>54.194974</td>\n",
       "    </tr>\n",
       "    <tr>\n",
       "      <th>12</th>\n",
       "      <td>83.809881</td>\n",
       "      <td>78.597514</td>\n",
       "      <td>76.428492</td>\n",
       "      <td>77.259834</td>\n",
       "      <td>65.404593</td>\n",
       "      <td>45.715141</td>\n",
       "    </tr>\n",
       "    <tr>\n",
       "      <th>13</th>\n",
       "      <td>86.303153</td>\n",
       "      <td>81.993780</td>\n",
       "      <td>81.788925</td>\n",
       "      <td>75.083709</td>\n",
       "      <td>83.440805</td>\n",
       "      <td>59.243485</td>\n",
       "    </tr>\n",
       "    <tr>\n",
       "      <th>14</th>\n",
       "      <td>85.027486</td>\n",
       "      <td>87.335727</td>\n",
       "      <td>67.689540</td>\n",
       "      <td>80.923237</td>\n",
       "      <td>72.055429</td>\n",
       "      <td>50.588542</td>\n",
       "    </tr>\n",
       "    <tr>\n",
       "      <th>15</th>\n",
       "      <td>83.974379</td>\n",
       "      <td>72.343119</td>\n",
       "      <td>81.401592</td>\n",
       "      <td>79.855898</td>\n",
       "      <td>67.327046</td>\n",
       "      <td>47.242336</td>\n",
       "    </tr>\n",
       "    <tr>\n",
       "      <th>16</th>\n",
       "      <td>84.786815</td>\n",
       "      <td>86.560759</td>\n",
       "      <td>75.644117</td>\n",
       "      <td>82.566626</td>\n",
       "      <td>75.068338</td>\n",
       "      <td>61.862645</td>\n",
       "    </tr>\n",
       "    <tr>\n",
       "      <th>17</th>\n",
       "      <td>93.436988</td>\n",
       "      <td>77.312816</td>\n",
       "      <td>70.198363</td>\n",
       "      <td>90.275377</td>\n",
       "      <td>61.620308</td>\n",
       "      <td>55.704137</td>\n",
       "    </tr>\n",
       "    <tr>\n",
       "      <th>18</th>\n",
       "      <td>84.845686</td>\n",
       "      <td>82.110203</td>\n",
       "      <td>80.395941</td>\n",
       "      <td>83.239015</td>\n",
       "      <td>61.982915</td>\n",
       "      <td>54.399734</td>\n",
       "    </tr>\n",
       "    <tr>\n",
       "      <th>19</th>\n",
       "      <td>76.733520</td>\n",
       "      <td>77.648130</td>\n",
       "      <td>69.352463</td>\n",
       "      <td>69.968010</td>\n",
       "      <td>71.499545</td>\n",
       "      <td>43.808790</td>\n",
       "    </tr>\n",
       "    <tr>\n",
       "      <th>20</th>\n",
       "      <td>90.283748</td>\n",
       "      <td>89.278457</td>\n",
       "      <td>72.960198</td>\n",
       "      <td>81.041442</td>\n",
       "      <td>69.390812</td>\n",
       "      <td>48.282390</td>\n",
       "    </tr>\n",
       "    <tr>\n",
       "      <th>21</th>\n",
       "      <td>87.245727</td>\n",
       "      <td>90.702494</td>\n",
       "      <td>73.925340</td>\n",
       "      <td>77.895049</td>\n",
       "      <td>64.642991</td>\n",
       "      <td>55.443052</td>\n",
       "    </tr>\n",
       "    <tr>\n",
       "      <th>22</th>\n",
       "      <td>84.949017</td>\n",
       "      <td>79.645461</td>\n",
       "      <td>86.101735</td>\n",
       "      <td>82.925844</td>\n",
       "      <td>86.228111</td>\n",
       "      <td>53.387113</td>\n",
       "    </tr>\n",
       "    <tr>\n",
       "      <th>23</th>\n",
       "      <td>88.042379</td>\n",
       "      <td>81.239524</td>\n",
       "      <td>69.237433</td>\n",
       "      <td>75.420127</td>\n",
       "      <td>72.920601</td>\n",
       "      <td>54.466513</td>\n",
       "    </tr>\n",
       "    <tr>\n",
       "      <th>24</th>\n",
       "      <td>81.190865</td>\n",
       "      <td>81.503549</td>\n",
       "      <td>73.962404</td>\n",
       "      <td>70.272893</td>\n",
       "      <td>61.595513</td>\n",
       "      <td>52.970566</td>\n",
       "    </tr>\n",
       "    <tr>\n",
       "      <th>25</th>\n",
       "      <td>78.996800</td>\n",
       "      <td>85.707117</td>\n",
       "      <td>78.522882</td>\n",
       "      <td>78.102770</td>\n",
       "      <td>73.609617</td>\n",
       "      <td>54.255327</td>\n",
       "    </tr>\n",
       "    <tr>\n",
       "      <th>26</th>\n",
       "      <td>83.850718</td>\n",
       "      <td>79.901882</td>\n",
       "      <td>84.832005</td>\n",
       "      <td>76.909949</td>\n",
       "      <td>71.008525</td>\n",
       "      <td>52.839320</td>\n",
       "    </tr>\n",
       "    <tr>\n",
       "      <th>27</th>\n",
       "      <td>86.873096</td>\n",
       "      <td>86.337710</td>\n",
       "      <td>67.504060</td>\n",
       "      <td>77.117612</td>\n",
       "      <td>66.205029</td>\n",
       "      <td>47.944348</td>\n",
       "    </tr>\n",
       "    <tr>\n",
       "      <th>28</th>\n",
       "      <td>85.267792</td>\n",
       "      <td>78.532056</td>\n",
       "      <td>72.574872</td>\n",
       "      <td>79.765407</td>\n",
       "      <td>81.260800</td>\n",
       "      <td>47.950480</td>\n",
       "    </tr>\n",
       "    <tr>\n",
       "      <th>29</th>\n",
       "      <td>88.836016</td>\n",
       "      <td>83.672098</td>\n",
       "      <td>76.387955</td>\n",
       "      <td>71.799225</td>\n",
       "      <td>70.798261</td>\n",
       "      <td>51.116020</td>\n",
       "    </tr>\n",
       "    <tr>\n",
       "      <th>...</th>\n",
       "      <td>...</td>\n",
       "      <td>...</td>\n",
       "      <td>...</td>\n",
       "      <td>...</td>\n",
       "      <td>...</td>\n",
       "      <td>...</td>\n",
       "    </tr>\n",
       "    <tr>\n",
       "      <th>1970</th>\n",
       "      <td>80.903976</td>\n",
       "      <td>83.816754</td>\n",
       "      <td>76.688964</td>\n",
       "      <td>83.005472</td>\n",
       "      <td>70.222936</td>\n",
       "      <td>47.886996</td>\n",
       "    </tr>\n",
       "    <tr>\n",
       "      <th>1971</th>\n",
       "      <td>80.597548</td>\n",
       "      <td>83.205268</td>\n",
       "      <td>77.723259</td>\n",
       "      <td>75.904147</td>\n",
       "      <td>65.872941</td>\n",
       "      <td>47.020802</td>\n",
       "    </tr>\n",
       "    <tr>\n",
       "      <th>1972</th>\n",
       "      <td>79.896841</td>\n",
       "      <td>79.858066</td>\n",
       "      <td>77.861619</td>\n",
       "      <td>79.764448</td>\n",
       "      <td>67.209969</td>\n",
       "      <td>55.295293</td>\n",
       "    </tr>\n",
       "    <tr>\n",
       "      <th>1973</th>\n",
       "      <td>87.308586</td>\n",
       "      <td>91.598278</td>\n",
       "      <td>76.453063</td>\n",
       "      <td>79.426116</td>\n",
       "      <td>72.971812</td>\n",
       "      <td>50.558755</td>\n",
       "    </tr>\n",
       "    <tr>\n",
       "      <th>1974</th>\n",
       "      <td>81.439370</td>\n",
       "      <td>65.562717</td>\n",
       "      <td>75.055749</td>\n",
       "      <td>86.757674</td>\n",
       "      <td>74.515371</td>\n",
       "      <td>57.444279</td>\n",
       "    </tr>\n",
       "    <tr>\n",
       "      <th>1975</th>\n",
       "      <td>82.984697</td>\n",
       "      <td>87.094905</td>\n",
       "      <td>74.037468</td>\n",
       "      <td>70.794606</td>\n",
       "      <td>66.644712</td>\n",
       "      <td>47.755294</td>\n",
       "    </tr>\n",
       "    <tr>\n",
       "      <th>1976</th>\n",
       "      <td>79.039255</td>\n",
       "      <td>77.785524</td>\n",
       "      <td>81.766218</td>\n",
       "      <td>72.432634</td>\n",
       "      <td>75.442569</td>\n",
       "      <td>58.168755</td>\n",
       "    </tr>\n",
       "    <tr>\n",
       "      <th>1977</th>\n",
       "      <td>86.405555</td>\n",
       "      <td>84.618342</td>\n",
       "      <td>81.137552</td>\n",
       "      <td>81.245986</td>\n",
       "      <td>71.407085</td>\n",
       "      <td>57.360596</td>\n",
       "    </tr>\n",
       "    <tr>\n",
       "      <th>1978</th>\n",
       "      <td>88.913326</td>\n",
       "      <td>85.141085</td>\n",
       "      <td>81.779431</td>\n",
       "      <td>83.119600</td>\n",
       "      <td>66.551918</td>\n",
       "      <td>45.586345</td>\n",
       "    </tr>\n",
       "    <tr>\n",
       "      <th>1979</th>\n",
       "      <td>86.482219</td>\n",
       "      <td>83.923888</td>\n",
       "      <td>77.722500</td>\n",
       "      <td>78.078175</td>\n",
       "      <td>72.130221</td>\n",
       "      <td>45.060801</td>\n",
       "    </tr>\n",
       "    <tr>\n",
       "      <th>1980</th>\n",
       "      <td>84.092340</td>\n",
       "      <td>76.820818</td>\n",
       "      <td>68.815093</td>\n",
       "      <td>81.951057</td>\n",
       "      <td>71.768922</td>\n",
       "      <td>57.002365</td>\n",
       "    </tr>\n",
       "    <tr>\n",
       "      <th>1981</th>\n",
       "      <td>77.350759</td>\n",
       "      <td>87.666768</td>\n",
       "      <td>91.742015</td>\n",
       "      <td>80.951101</td>\n",
       "      <td>80.954627</td>\n",
       "      <td>54.335497</td>\n",
       "    </tr>\n",
       "    <tr>\n",
       "      <th>1982</th>\n",
       "      <td>86.651624</td>\n",
       "      <td>85.337974</td>\n",
       "      <td>82.369350</td>\n",
       "      <td>73.049989</td>\n",
       "      <td>72.250682</td>\n",
       "      <td>51.320730</td>\n",
       "    </tr>\n",
       "    <tr>\n",
       "      <th>1983</th>\n",
       "      <td>90.806438</td>\n",
       "      <td>75.167163</td>\n",
       "      <td>67.850056</td>\n",
       "      <td>89.560646</td>\n",
       "      <td>75.749390</td>\n",
       "      <td>60.129997</td>\n",
       "    </tr>\n",
       "    <tr>\n",
       "      <th>1984</th>\n",
       "      <td>80.489669</td>\n",
       "      <td>85.297947</td>\n",
       "      <td>73.378974</td>\n",
       "      <td>83.541398</td>\n",
       "      <td>64.357056</td>\n",
       "      <td>51.723630</td>\n",
       "    </tr>\n",
       "    <tr>\n",
       "      <th>1985</th>\n",
       "      <td>83.659775</td>\n",
       "      <td>75.829157</td>\n",
       "      <td>87.326586</td>\n",
       "      <td>75.712845</td>\n",
       "      <td>69.735899</td>\n",
       "      <td>55.156695</td>\n",
       "    </tr>\n",
       "    <tr>\n",
       "      <th>1986</th>\n",
       "      <td>86.439407</td>\n",
       "      <td>89.130417</td>\n",
       "      <td>72.942634</td>\n",
       "      <td>75.310454</td>\n",
       "      <td>71.119232</td>\n",
       "      <td>46.748163</td>\n",
       "    </tr>\n",
       "    <tr>\n",
       "      <th>1987</th>\n",
       "      <td>87.427337</td>\n",
       "      <td>85.636568</td>\n",
       "      <td>80.169736</td>\n",
       "      <td>81.760573</td>\n",
       "      <td>71.306966</td>\n",
       "      <td>48.867831</td>\n",
       "    </tr>\n",
       "    <tr>\n",
       "      <th>1988</th>\n",
       "      <td>84.971674</td>\n",
       "      <td>77.293669</td>\n",
       "      <td>86.845438</td>\n",
       "      <td>84.560738</td>\n",
       "      <td>64.776653</td>\n",
       "      <td>52.098184</td>\n",
       "    </tr>\n",
       "    <tr>\n",
       "      <th>1989</th>\n",
       "      <td>85.645645</td>\n",
       "      <td>89.005462</td>\n",
       "      <td>78.737171</td>\n",
       "      <td>83.105573</td>\n",
       "      <td>68.755261</td>\n",
       "      <td>47.110622</td>\n",
       "    </tr>\n",
       "    <tr>\n",
       "      <th>1990</th>\n",
       "      <td>80.810870</td>\n",
       "      <td>81.750900</td>\n",
       "      <td>73.508585</td>\n",
       "      <td>79.666780</td>\n",
       "      <td>72.730841</td>\n",
       "      <td>53.160079</td>\n",
       "    </tr>\n",
       "    <tr>\n",
       "      <th>1991</th>\n",
       "      <td>85.211225</td>\n",
       "      <td>95.246262</td>\n",
       "      <td>73.309555</td>\n",
       "      <td>78.879618</td>\n",
       "      <td>79.350128</td>\n",
       "      <td>56.900346</td>\n",
       "    </tr>\n",
       "    <tr>\n",
       "      <th>1992</th>\n",
       "      <td>85.197732</td>\n",
       "      <td>77.787327</td>\n",
       "      <td>85.165998</td>\n",
       "      <td>78.114087</td>\n",
       "      <td>66.919626</td>\n",
       "      <td>48.797570</td>\n",
       "    </tr>\n",
       "    <tr>\n",
       "      <th>1993</th>\n",
       "      <td>81.555974</td>\n",
       "      <td>78.194492</td>\n",
       "      <td>72.431607</td>\n",
       "      <td>74.070599</td>\n",
       "      <td>63.234651</td>\n",
       "      <td>45.921534</td>\n",
       "    </tr>\n",
       "    <tr>\n",
       "      <th>1994</th>\n",
       "      <td>94.542068</td>\n",
       "      <td>86.578914</td>\n",
       "      <td>79.978765</td>\n",
       "      <td>83.358816</td>\n",
       "      <td>64.758618</td>\n",
       "      <td>40.652790</td>\n",
       "    </tr>\n",
       "    <tr>\n",
       "      <th>1995</th>\n",
       "      <td>93.070752</td>\n",
       "      <td>80.419432</td>\n",
       "      <td>78.400671</td>\n",
       "      <td>88.068889</td>\n",
       "      <td>71.749248</td>\n",
       "      <td>50.783692</td>\n",
       "    </tr>\n",
       "    <tr>\n",
       "      <th>1996</th>\n",
       "      <td>74.845097</td>\n",
       "      <td>83.843594</td>\n",
       "      <td>75.137755</td>\n",
       "      <td>77.134387</td>\n",
       "      <td>59.962291</td>\n",
       "      <td>46.332644</td>\n",
       "    </tr>\n",
       "    <tr>\n",
       "      <th>1997</th>\n",
       "      <td>82.518592</td>\n",
       "      <td>73.688980</td>\n",
       "      <td>73.042258</td>\n",
       "      <td>71.093117</td>\n",
       "      <td>74.372682</td>\n",
       "      <td>62.334518</td>\n",
       "    </tr>\n",
       "    <tr>\n",
       "      <th>1998</th>\n",
       "      <td>82.561822</td>\n",
       "      <td>76.745454</td>\n",
       "      <td>89.203447</td>\n",
       "      <td>74.842262</td>\n",
       "      <td>72.803686</td>\n",
       "      <td>51.393860</td>\n",
       "    </tr>\n",
       "    <tr>\n",
       "      <th>1999</th>\n",
       "      <td>88.599439</td>\n",
       "      <td>87.360736</td>\n",
       "      <td>84.241529</td>\n",
       "      <td>78.086735</td>\n",
       "      <td>70.667502</td>\n",
       "      <td>41.279812</td>\n",
       "    </tr>\n",
       "  </tbody>\n",
       "</table>\n",
       "<p>2000 rows × 6 columns</p>\n",
       "</div>"
      ],
      "text/plain": [
       "          Japan      Italy        USA       Cuba     Russia     Angola\n",
       "0     89.626835  89.354187  81.003545  78.555254  67.744527  43.891303\n",
       "1     79.926959  84.225790  73.835234  78.192026  71.739542  50.620011\n",
       "2     85.272054  76.132075  83.180460  70.501275  72.607142  51.081781\n",
       "3     84.587564  90.358399  85.665447  68.108925  68.586091  53.224689\n",
       "4     83.915349  84.358073  74.032764  83.223849  71.041935  50.343658\n",
       "5     82.742477  87.113141  73.609107  77.509012  72.576959  51.841855\n",
       "6     82.296454  80.640078  79.517836  79.026255  69.058281  58.196454\n",
       "7     79.075080  86.343906  84.415543  76.451494  67.386277  52.653026\n",
       "8     79.260548  77.357104  71.977351  79.344022  74.651777  50.222289\n",
       "9     87.394614  73.480055  80.278396  76.886345  79.004706  52.445712\n",
       "10    86.981349  89.532129  81.709588  75.446434  68.373685  58.935454\n",
       "11    85.709055  91.868261  86.676801  72.712540  59.950481  54.194974\n",
       "12    83.809881  78.597514  76.428492  77.259834  65.404593  45.715141\n",
       "13    86.303153  81.993780  81.788925  75.083709  83.440805  59.243485\n",
       "14    85.027486  87.335727  67.689540  80.923237  72.055429  50.588542\n",
       "15    83.974379  72.343119  81.401592  79.855898  67.327046  47.242336\n",
       "16    84.786815  86.560759  75.644117  82.566626  75.068338  61.862645\n",
       "17    93.436988  77.312816  70.198363  90.275377  61.620308  55.704137\n",
       "18    84.845686  82.110203  80.395941  83.239015  61.982915  54.399734\n",
       "19    76.733520  77.648130  69.352463  69.968010  71.499545  43.808790\n",
       "20    90.283748  89.278457  72.960198  81.041442  69.390812  48.282390\n",
       "21    87.245727  90.702494  73.925340  77.895049  64.642991  55.443052\n",
       "22    84.949017  79.645461  86.101735  82.925844  86.228111  53.387113\n",
       "23    88.042379  81.239524  69.237433  75.420127  72.920601  54.466513\n",
       "24    81.190865  81.503549  73.962404  70.272893  61.595513  52.970566\n",
       "25    78.996800  85.707117  78.522882  78.102770  73.609617  54.255327\n",
       "26    83.850718  79.901882  84.832005  76.909949  71.008525  52.839320\n",
       "27    86.873096  86.337710  67.504060  77.117612  66.205029  47.944348\n",
       "28    85.267792  78.532056  72.574872  79.765407  81.260800  47.950480\n",
       "29    88.836016  83.672098  76.387955  71.799225  70.798261  51.116020\n",
       "...         ...        ...        ...        ...        ...        ...\n",
       "1970  80.903976  83.816754  76.688964  83.005472  70.222936  47.886996\n",
       "1971  80.597548  83.205268  77.723259  75.904147  65.872941  47.020802\n",
       "1972  79.896841  79.858066  77.861619  79.764448  67.209969  55.295293\n",
       "1973  87.308586  91.598278  76.453063  79.426116  72.971812  50.558755\n",
       "1974  81.439370  65.562717  75.055749  86.757674  74.515371  57.444279\n",
       "1975  82.984697  87.094905  74.037468  70.794606  66.644712  47.755294\n",
       "1976  79.039255  77.785524  81.766218  72.432634  75.442569  58.168755\n",
       "1977  86.405555  84.618342  81.137552  81.245986  71.407085  57.360596\n",
       "1978  88.913326  85.141085  81.779431  83.119600  66.551918  45.586345\n",
       "1979  86.482219  83.923888  77.722500  78.078175  72.130221  45.060801\n",
       "1980  84.092340  76.820818  68.815093  81.951057  71.768922  57.002365\n",
       "1981  77.350759  87.666768  91.742015  80.951101  80.954627  54.335497\n",
       "1982  86.651624  85.337974  82.369350  73.049989  72.250682  51.320730\n",
       "1983  90.806438  75.167163  67.850056  89.560646  75.749390  60.129997\n",
       "1984  80.489669  85.297947  73.378974  83.541398  64.357056  51.723630\n",
       "1985  83.659775  75.829157  87.326586  75.712845  69.735899  55.156695\n",
       "1986  86.439407  89.130417  72.942634  75.310454  71.119232  46.748163\n",
       "1987  87.427337  85.636568  80.169736  81.760573  71.306966  48.867831\n",
       "1988  84.971674  77.293669  86.845438  84.560738  64.776653  52.098184\n",
       "1989  85.645645  89.005462  78.737171  83.105573  68.755261  47.110622\n",
       "1990  80.810870  81.750900  73.508585  79.666780  72.730841  53.160079\n",
       "1991  85.211225  95.246262  73.309555  78.879618  79.350128  56.900346\n",
       "1992  85.197732  77.787327  85.165998  78.114087  66.919626  48.797570\n",
       "1993  81.555974  78.194492  72.431607  74.070599  63.234651  45.921534\n",
       "1994  94.542068  86.578914  79.978765  83.358816  64.758618  40.652790\n",
       "1995  93.070752  80.419432  78.400671  88.068889  71.749248  50.783692\n",
       "1996  74.845097  83.843594  75.137755  77.134387  59.962291  46.332644\n",
       "1997  82.518592  73.688980  73.042258  71.093117  74.372682  62.334518\n",
       "1998  82.561822  76.745454  89.203447  74.842262  72.803686  51.393860\n",
       "1999  88.599439  87.360736  84.241529  78.086735  70.667502  41.279812\n",
       "\n",
       "[2000 rows x 6 columns]"
      ]
     },
     "execution_count": 18,
     "metadata": {},
     "output_type": "execute_result"
    }
   ],
   "source": [
    "dist"
   ]
  },
  {
   "cell_type": "code",
   "execution_count": 23,
   "metadata": {},
   "outputs": [
    {
     "data": {
      "image/png": "[encoded data removed]",
      "text/plain": [
       "<Figure size 432x288 with 1 Axes>"
      ]
     },
     "metadata": {
      "needs_background": "light"
     },
     "output_type": "display_data"
    }
   ],
   "source": [
    "fig, ax = plt.subplots()\n",
    "selected = dist.filter(['Japan', 'Russia', 'Angola'], axis=1)\n",
    "selected.plot.hist(density=True, ax=ax)\n",
    "selected.plot.kde(ax=ax, legend=False, title='Histogram: Japan vs Russia vs Angola')\n",
    "ax.set_xlabel('Age')\n",
    "ax.set_ylabel('Probability')\n",
    "ax.grid(axis='y')"
   ]
  },
  {
   "cell_type": "code",
   "execution_count": 25,
   "metadata": {},
   "outputs": [
    {
     "data": {
      "text/plain": [
       "<matplotlib.axes._subplots.AxesSubplot at 0x11c6f2b38>"
      ]
     },
     "execution_count": 25,
     "metadata": {},
     "output_type": "execute_result"
    },
    {
     "data": {
      "image/png": "[encoded data removed]",
      "text/plain": [
       "<Figure size 432x288 with 1 Axes>"
      ]
     },
     "metadata": {
      "needs_background": "light"
     },
     "output_type": "display_data"
    }
   ],
   "source": [
    "import seaborn as sns\n",
    "sns.distplot(dist['Russia'])"
   ]
  },
  {
   "cell_type": "code",
   "execution_count": 26,
   "metadata": {},
   "outputs": [
    {
     "name": "stderr",
     "output_type": "stream",
     "text": [
      "/Users/massi/.pyenv/versions/3.6.5/envs/p4ds-dev-3.6.5/lib/python3.6/site-packages/scipy/stats/stats.py:1713: FutureWarning: Using a non-tuple sequence for multidimensional indexing is deprecated; use `arr[tuple(seq)]` instead of `arr[seq]`. In the future this will be interpreted as an array index, `arr[np.array(seq)]`, which will result either in an error or a different result.\n",
      "  return np.add.reduce(sorted[indexer] * weights, axis=axis) / sumval\n"
     ]
    },
    {
     "data": {
      "text/plain": [
       "[Text(0, 0.5, 'Probability Density'), Text(0.5, 0, 'Age')]"
      ]
     },
     "execution_count": 26,
     "metadata": {},
     "output_type": "execute_result"
    },
    {
     "data": {
      "image/png": "[encoded data removed]",
      "text/plain": [
       "<Figure size 432x288 with 1 Axes>"
      ]
     },
     "metadata": {
      "needs_background": "light"
     },
     "output_type": "display_data"
    }
   ],
   "source": [
    "axes = selected.apply(sns.distplot)\n",
    "axes[-1].set(xlabel='Age', ylabel='Probability Density')"
   ]
  },
  {
   "cell_type": "code",
   "execution_count": 27,
   "metadata": {},
   "outputs": [
    {
     "name": "stderr",
     "output_type": "stream",
     "text": [
      "/Users/massi/.pyenv/versions/3.6.5/envs/p4ds-dev-3.6.5/lib/python3.6/site-packages/scipy/stats/stats.py:1713: FutureWarning: Using a non-tuple sequence for multidimensional indexing is deprecated; use `arr[tuple(seq)]` instead of `arr[seq]`. In the future this will be interpreted as an array index, `arr[np.array(seq)]`, which will result either in an error or a different result.\n",
      "  return np.add.reduce(sorted[indexer] * weights, axis=axis) / sumval\n"
     ]
    },
    {
     "data": {
      "text/plain": [
       "[Text(0, 0.5, 'Probability Density'), Text(0.5, 0, 'Age')]"
      ]
     },
     "execution_count": 27,
     "metadata": {},
     "output_type": "execute_result"
    },
    {
     "data": {
      "image/png": "[encoded data removed]",
      "text/plain": [
       "<Figure size 432x288 with 1 Axes>"
      ]
     },
     "metadata": {
      "needs_background": "light"
     },
     "output_type": "display_data"
    }
   ],
   "source": [
    "from scipy import stats\n",
    "axes = selected.apply(sns.distplot, fit=stats.norm, kde=False)\n",
    "axes[-1].set(xlabel='Age', ylabel='Probability Density')"
   ]
  },
  {
   "cell_type": "code",
   "execution_count": 28,
   "metadata": {},
   "outputs": [
    {
     "data": {
      "text/plain": [
       "[Text(0, 0.5, 'Age'), Text(0.5, 0, 'Country')]"
      ]
     },
     "execution_count": 28,
     "metadata": {},
     "output_type": "execute_result"
    },
    {
     "data": {
      "image/png": "[encoded data removed]",
      "text/plain": [
       "<Figure size 432x288 with 1 Axes>"
      ]
     },
     "metadata": {
      "needs_background": "light"
     },
     "output_type": "display_data"
    }
   ],
   "source": [
    "ax = sns.boxplot(data=dist)\n",
    "ax.set(xlabel='Country', ylabel='Age')"
   ]
  },
  {
   "cell_type": "code",
   "execution_count": 29,
   "metadata": {},
   "outputs": [
    {
     "data": {
      "text/plain": [
       "LeveneResult(statistic=0.24786833074267292, pvalue=0.6186074495524485)"
      ]
     },
     "execution_count": 29,
     "metadata": {},
     "output_type": "execute_result"
    }
   ],
   "source": [
    "stats.levene(dist['Japan'], dist['Italy'])"
   ]
  },
  {
   "cell_type": "code",
   "execution_count": 30,
   "metadata": {},
   "outputs": [],
   "source": [
    "diff = dist['Japan'] - dist['Italy']"
   ]
  },
  {
   "cell_type": "code",
   "execution_count": 31,
   "metadata": {},
   "outputs": [
    {
     "data": {
      "text/plain": [
       "((array([-3.392, -3.141, -3.002, ...,  3.002,  3.141,  3.392]),\n",
       "  array([-24.873, -24.215, -22.165, ...,  22.545,  24.476,  25.024])),\n",
       " (7.335120234042567, 0.9374378933909082, 0.999289939301305))"
      ]
     },
     "execution_count": 31,
     "metadata": {},
     "output_type": "execute_result"
    },
    {
     "data": {
      "image/png": "[encoded data removed]",
      "text/plain": [
       "<Figure size 432x288 with 1 Axes>"
      ]
     },
     "metadata": {
      "needs_background": "light"
     },
     "output_type": "display_data"
    }
   ],
   "source": [
    "stats.probplot(diff, dist='norm', plot=plt)"
   ]
  },
  {
   "cell_type": "code",
   "execution_count": 32,
   "metadata": {},
   "outputs": [
    {
     "data": {
      "text/plain": [
       "Text(0.5, 0, 'Age')"
      ]
     },
     "execution_count": 32,
     "metadata": {},
     "output_type": "execute_result"
    },
    {
     "data": {
      "image/png": "[encoded data removed]",
      "text/plain": [
       "<Figure size 432x288 with 1 Axes>"
      ]
     },
     "metadata": {
      "needs_background": "light"
     },
     "output_type": "display_data"
    }
   ],
   "source": [
    "diff.plot(kind='hist', title=\"Lifespan Residuals Japan vs. Italy\")\n",
    "plt.xlabel(\"Age\")"
   ]
  },
  {
   "cell_type": "code",
   "execution_count": 33,
   "metadata": {},
   "outputs": [
    {
     "data": {
      "text/plain": [
       "(0.9985384941101074, 0.08087104558944702)"
      ]
     },
     "execution_count": 33,
     "metadata": {},
     "output_type": "execute_result"
    }
   ],
   "source": [
    "stats.shapiro(diff)"
   ]
  },
  {
   "cell_type": "code",
   "execution_count": 34,
   "metadata": {},
   "outputs": [
    {
     "data": {
      "text/plain": [
       "Ttest_indResult(statistic=5.719496667474284, pvalue=1.1465302066329655e-08)"
      ]
     },
     "execution_count": 34,
     "metadata": {},
     "output_type": "execute_result"
    }
   ],
   "source": [
    "stats.ttest_ind(dist['Japan'], dist['Italy'])"
   ]
  },
  {
   "cell_type": "code",
   "execution_count": 35,
   "metadata": {},
   "outputs": [
    {
     "data": {
      "text/plain": [
       "F_onewayResult(statistic=547.1934671001138, pvalue=5.2214805223105144e-219)"
      ]
     },
     "execution_count": 35,
     "metadata": {},
     "output_type": "execute_result"
    }
   ],
   "source": [
    "stats.f_oneway(dist['Japan'], dist['Cuba'], dist['USA'])"
   ]
  },
  {
   "cell_type": "code",
   "execution_count": 36,
   "metadata": {},
   "outputs": [
    {
     "data": {
      "text/plain": [
       "Ttest_indResult(statistic=29.700463811325314, pvalue=2.4185398355258918e-175)"
      ]
     },
     "execution_count": 36,
     "metadata": {},
     "output_type": "execute_result"
    }
   ],
   "source": [
    "stats.ttest_ind(dist['Japan'], dist['Cuba'])"
   ]
  },
  {
   "cell_type": "code",
   "execution_count": 37,
   "metadata": {},
   "outputs": [
    {
     "data": {
      "text/plain": [
       "Ttest_indResult(statistic=27.431932184623534, pvalue=6.03071747277498e-152)"
      ]
     },
     "execution_count": 37,
     "metadata": {},
     "output_type": "execute_result"
    }
   ],
   "source": [
    "stats.ttest_ind(dist['Japan'], dist['USA'])"
   ]
  },
  {
   "cell_type": "code",
   "execution_count": 38,
   "metadata": {},
   "outputs": [
    {
     "data": {
      "text/plain": [
       "Ttest_indResult(statistic=1.377108801969256, pvalue=0.16855570873952347)"
      ]
     },
     "execution_count": 38,
     "metadata": {},
     "output_type": "execute_result"
    }
   ],
   "source": [
    "stats.ttest_ind(dist['USA'], dist['Cuba'])"
   ]
  },
  {
   "cell_type": "code",
   "execution_count": null,
   "metadata": {},
   "outputs": [],
   "source": [
    "\n",
    "\n",
    "\n",
    "\n",
    "\n",
    "\n",
    "\n",
    "\n",
    "\n",
    "\n",
    "\n",
    "\n",
    "\n",
    "\n",
    "\n"
   ]
  }
 ],
 "metadata": {
  "kernelspec": {
   "display_name": "Python 3",
   "language": "python",
   "name": "python3"
  },
  "language_info": {
   "codemirror_mode": {
    "name": "ipython",
    "version": 3
   },
   "file_extension": ".py",
   "mimetype": "text/x-python",
   "name": "python",
   "nbconvert_exporter": "python",
   "pygments_lexer": "ipython3",
   "version": "3.6.5"
  }
 },
 "nbformat": 4,
 "nbformat_minor": 2
}
