{
 "cells": [
  {
   "cell_type": "markdown",
   "metadata": {},
   "source": [
    "# Lab 8: Twitter API with Tweepy\n",
    "\n",
    "Welcome to lab 8! In this session, you will set up your own Twitter API credentials so you can access the Twitter API from Python using `tweepy`.\n",
    "\n",
    "If you have launched this notebook in `binder` the `tweepy` library should already have been installed on the underlying virtual machine that the copy of Jupyter Notebook is running in. If you have downloaded this notebook to use on your own computer (or in the CTR), you might need to install `tweepy` first before running this notebook. To install `tweepy`, open up the command-line (`Command prompt` on Windows, or `Git Bash` in the CTR) and type:\n",
    "\n",
    "```\n",
    "conda install tweepy\n",
    "```\n",
    "\n",
    "and press Enter. Some text should whiz by indicating that it's installing various things. Once that is done, please restart Jupyter Notebook.\n",
    "\n",
    "For full documentation about how to use `tweepy` you can reference here: http://www.tweepy.org\n",
    "\n",
    "<img src=\"images/twitter-python-json.png/\">\n",
    "\n",
    "Essentially what we are going to do is to use Python to query Twitter's Web-based API, which will return us some JSON data. We can transform this JSON into something that we can play with - a `DataFrame`."
   ]
  },
  {
   "cell_type": "markdown",
   "metadata": {},
   "source": [
    "### Import our libraries"
   ]
  },
  {
   "cell_type": "code",
   "execution_count": 1,
   "metadata": {},
   "outputs": [],
   "source": [
    "import tweepy\n",
    "import pandas as pd\n",
    "import numpy as np\n",
    "from IPython.display import display\n",
    "import matplotlib.pyplot as plt\n",
    "%matplotlib inline"
   ]
  },
  {
   "cell_type": "markdown",
   "metadata": {},
   "source": [
    "Before we can do anything, you need to sign up to Twitter (if you haven't already got an account) so that Twitter can grant you programmatic access credentials. Access is free, but there are limitations for non-commercial access.\n",
    "\n",
    "To get your consumer and access credentials set up, please follow the instructions found here: https://www.gabfirethemes.com/create-twitter-api-key/"
   ]
  },
  {
   "cell_type": "code",
   "execution_count": 2,
   "metadata": {},
   "outputs": [],
   "source": [
    "# Enter your Twitter API key and access tokens here\n",
    "api_key = ''\n",
    "api_secret = ''\n",
    "access_token = ''\n",
    "access_token_secret = ''"
   ]
  },
  {
   "cell_type": "code",
   "execution_count": 3,
   "metadata": {},
   "outputs": [],
   "source": [
    "# Set up the Auth Tweepy object. This takes your credentials from above\n",
    "# and does some authentication with Twitter\n",
    "auth = tweepy.OAuthHandler(api_key, api_secret)\n",
    "auth.set_access_token(access_token, access_token_secret)\n",
    "api = tweepy.API(auth, wait_on_rate_limit_notify=True, wait_on_rate_limit=True)"
   ]
  },
  {
   "cell_type": "markdown",
   "metadata": {},
   "source": [
    "Now let's extract some tweets for a particular user. For example, we could use `realDonaldTrump` or another screen name of a Twitter user (you can choose your own if you wish)."
   ]
  },
  {
   "cell_type": "code",
   "execution_count": 4,
   "metadata": {},
   "outputs": [
    {
     "name": "stdout",
     "output_type": "stream",
     "text": [
      "Number of tweets extracted: 200.\n",
      "\n",
      "5 recent tweets:\n",
      "\n",
      "We do have a Trade Deficit with Canada, as we do with almost all countries (some of them massive). P.M. Justin Trud… https://t.co/xSKFD5YNYm\n",
      "\n",
      "Larry Kudlow will be my Chief Economic Advisor as Director of the National Economic Council. Our Country will have… https://t.co/uBMM8fsmL8\n",
      "\n",
      "Please join me with your thoughts and prayers for both aviators, their families and our incredible @USNavy. https://t.co/60bHhrp8Y1\n",
      "\n",
      "It was wonderful to be back in Missouri where our push for historic TAX CUTS all began. Six months ago I promised t… https://t.co/33TxKS2pTe\n",
      "\n",
      "Together, we are MAKING AMERICA GREAT AGAIN! https://t.co/CUutL5SZxQ\n",
      "\n"
     ]
    }
   ],
   "source": [
    "# Fill in the blanks below. screen_name should be a string of the user \n",
    "# we wish to gather tweets from. count is the number of tweets.\n",
    "tweets = api.user_timeline(screen_name=\"realDonaldTrump\", count=200)\n",
    "print(\"Number of tweets extracted: {}.\\n\".format(len(tweets)))\n",
    "\n",
    "# We print the most recent 5 tweets:\n",
    "print(\"5 recent tweets:\\n\")\n",
    "for tweet in tweets[:5]:\n",
    "    print(tweet.text)\n",
    "    print()"
   ]
  },
  {
   "cell_type": "markdown",
   "metadata": {},
   "source": [
    "### Creating a DataFrame\n",
    "\n",
    "Next, create a `DataFrame` from the tweets gathered in the previous step. Essentially we have a series of tweets, so this should be straightforward."
   ]
  },
  {
   "cell_type": "code",
   "execution_count": 5,
   "metadata": {},
   "outputs": [
    {
     "data": {
      "text/html": [
       "<div>\n",
       "<style scoped>\n",
       "    .dataframe tbody tr th:only-of-type {\n",
       "        vertical-align: middle;\n",
       "    }\n",
       "\n",
       "    .dataframe tbody tr th {\n",
       "        vertical-align: top;\n",
       "    }\n",
       "\n",
       "    .dataframe thead th {\n",
       "        text-align: right;\n",
       "    }\n",
       "</style>\n",
       "<table border=\"1\" class=\"dataframe\">\n",
       "  <thead>\n",
       "    <tr style=\"text-align: right;\">\n",
       "      <th></th>\n",
       "      <th>Tweets</th>\n",
       "    </tr>\n",
       "  </thead>\n",
       "  <tbody>\n",
       "    <tr>\n",
       "      <th>0</th>\n",
       "      <td>We do have a Trade Deficit with Canada, as we ...</td>\n",
       "    </tr>\n",
       "    <tr>\n",
       "      <th>1</th>\n",
       "      <td>Larry Kudlow will be my Chief Economic Advisor...</td>\n",
       "    </tr>\n",
       "    <tr>\n",
       "      <th>2</th>\n",
       "      <td>Please join me with your thoughts and prayers ...</td>\n",
       "    </tr>\n",
       "    <tr>\n",
       "      <th>3</th>\n",
       "      <td>It was wonderful to be back in Missouri where ...</td>\n",
       "    </tr>\n",
       "    <tr>\n",
       "      <th>4</th>\n",
       "      <td>Together, we are MAKING AMERICA GREAT AGAIN! h...</td>\n",
       "    </tr>\n",
       "    <tr>\n",
       "      <th>5</th>\n",
       "      <td>Today the House took major steps toward securi...</td>\n",
       "    </tr>\n",
       "    <tr>\n",
       "      <th>6</th>\n",
       "      <td>Thank you for hosting! #MAGA https://t.co/9pHH...</td>\n",
       "    </tr>\n",
       "    <tr>\n",
       "      <th>7</th>\n",
       "      <td>We cannot keep a blind eye to the rampant unfa...</td>\n",
       "    </tr>\n",
       "    <tr>\n",
       "      <th>8</th>\n",
       "      <td>Five of our incredible @Cabinet Secretaries ar...</td>\n",
       "    </tr>\n",
       "    <tr>\n",
       "      <th>9</th>\n",
       "      <td>Perhaps at no time in history have the busines...</td>\n",
       "    </tr>\n",
       "  </tbody>\n",
       "</table>\n",
       "</div>"
      ],
      "text/plain": [
       "                                              Tweets\n",
       "0  We do have a Trade Deficit with Canada, as we ...\n",
       "1  Larry Kudlow will be my Chief Economic Advisor...\n",
       "2  Please join me with your thoughts and prayers ...\n",
       "3  It was wonderful to be back in Missouri where ...\n",
       "4  Together, we are MAKING AMERICA GREAT AGAIN! h...\n",
       "5  Today the House took major steps toward securi...\n",
       "6  Thank you for hosting! #MAGA https://t.co/9pHH...\n",
       "7  We cannot keep a blind eye to the rampant unfa...\n",
       "8  Five of our incredible @Cabinet Secretaries ar...\n",
       "9  Perhaps at no time in history have the busines..."
      ]
     },
     "execution_count": 5,
     "metadata": {},
     "output_type": "execute_result"
    }
   ],
   "source": [
    "# Each tweet from above is an object that holds many properties about\n",
    "# each tweet. Here, we use a Python structure called a list comprehension\n",
    "# to only extract the tweet text, given by tweet.text on each tweet \n",
    "# found in the tweets collection returned above.\n",
    "data = pd.DataFrame(data=[tweet.text for tweet in tweets], columns=['Tweets'])\n",
    "data.head(10)"
   ]
  },
  {
   "cell_type": "markdown",
   "metadata": {},
   "source": [
    "Now we have a simple table based on the text of tweets. Let's take a look at what other things we might be able to extract from a `tweet` object. "
   ]
  },
  {
   "cell_type": "code",
   "execution_count": 6,
   "metadata": {},
   "outputs": [
    {
     "name": "stdout",
     "output_type": "stream",
     "text": [
      "['__class__', '__delattr__', '__dict__', '__dir__', '__doc__', '__eq__', '__format__', '__ge__', '__getattribute__', '__getstate__', '__gt__', '__hash__', '__init__', '__init_subclass__', '__le__', '__lt__', '__module__', '__ne__', '__new__', '__reduce__', '__reduce_ex__', '__repr__', '__setattr__', '__sizeof__', '__str__', '__subclasshook__', '__weakref__', '_api', '_json', 'author', 'contributors', 'coordinates', 'created_at', 'destroy', 'entities', 'favorite', 'favorite_count', 'favorited', 'geo', 'id', 'id_str', 'in_reply_to_screen_name', 'in_reply_to_status_id', 'in_reply_to_status_id_str', 'in_reply_to_user_id', 'in_reply_to_user_id_str', 'is_quote_status', 'lang', 'parse', 'parse_list', 'place', 'retweet', 'retweet_count', 'retweeted', 'retweets', 'source', 'source_url', 'text', 'truncated', 'user']\n"
     ]
    }
   ],
   "source": [
    "# dir gives us a directory of attributes that we can access using the \n",
    "# dot method on an object. Ignore everything enclosed with underscores, \n",
    "# as these are for internal Python use only.\n",
    "print(dir(tweets[0]))"
   ]
  },
  {
   "cell_type": "markdown",
   "metadata": {},
   "source": [
    "We can see here, there are other intersting attributes such as:"
   ]
  },
  {
   "cell_type": "code",
   "execution_count": 7,
   "metadata": {},
   "outputs": [
    {
     "name": "stdout",
     "output_type": "stream",
     "text": [
      "974276383051583488\n",
      "2018-03-15 13:29:25\n"
     ]
    }
   ],
   "source": [
    "# Print some info from the first tweet:\n",
    "print(tweets[0].id)\n",
    "print(tweets[0].created_at)"
   ]
  },
  {
   "cell_type": "code",
   "execution_count": 8,
   "metadata": {},
   "outputs": [
    {
     "name": "stdout",
     "output_type": "stream",
     "text": [
      "Twitter for iPhone\n",
      "28962\n",
      "7006\n",
      "None\n",
      "None\n",
      "{'hashtags': [], 'symbols': [], 'user_mentions': [], 'urls': [{'url': 'https://t.co/xSKFD5YNYm', 'expanded_url': 'https://twitter.com/i/web/status/974276383051583488', 'display_url': 'twitter.com/i/web/status/9…', 'indices': [117, 140]}]}\n"
     ]
    }
   ],
   "source": [
    "# Add a print statment to print out the following \n",
    "first_tweet = tweets[0]\n",
    "print( first_tweet.source )  # tweet source\n",
    "print( first_tweet.favorite_count )  # number of favourites\n",
    "print( first_tweet.retweet_count )  # number of retweets\n",
    "print( first_tweet.geo )  # geographical information\n",
    "print( first_tweet.coordinates )  # coordinates of the tweet\n",
    "print( first_tweet.entities )  # other entities related to the tweet"
   ]
  },
  {
   "cell_type": "markdown",
   "metadata": {},
   "source": [
    "Let's add some columns to our `DataFrame`. Use what you have learned about how to add columns to an existing `DataFrame`, and using the list comprehension pattern from above to add some more relevant data that we can then process."
   ]
  },
  {
   "cell_type": "code",
   "execution_count": 9,
   "metadata": {},
   "outputs": [
    {
     "data": {
      "text/html": [
       "<div>\n",
       "<style scoped>\n",
       "    .dataframe tbody tr th:only-of-type {\n",
       "        vertical-align: middle;\n",
       "    }\n",
       "\n",
       "    .dataframe tbody tr th {\n",
       "        vertical-align: top;\n",
       "    }\n",
       "\n",
       "    .dataframe thead th {\n",
       "        text-align: right;\n",
       "    }\n",
       "</style>\n",
       "<table border=\"1\" class=\"dataframe\">\n",
       "  <thead>\n",
       "    <tr style=\"text-align: right;\">\n",
       "      <th></th>\n",
       "      <th>Tweets</th>\n",
       "      <th>Date</th>\n",
       "    </tr>\n",
       "  </thead>\n",
       "  <tbody>\n",
       "    <tr>\n",
       "      <th>0</th>\n",
       "      <td>We do have a Trade Deficit with Canada, as we ...</td>\n",
       "      <td>2018-03-15 13:29:25</td>\n",
       "    </tr>\n",
       "    <tr>\n",
       "      <th>1</th>\n",
       "      <td>Larry Kudlow will be my Chief Economic Advisor...</td>\n",
       "      <td>2018-03-15 11:11:39</td>\n",
       "    </tr>\n",
       "    <tr>\n",
       "      <th>2</th>\n",
       "      <td>Please join me with your thoughts and prayers ...</td>\n",
       "      <td>2018-03-15 04:31:47</td>\n",
       "    </tr>\n",
       "    <tr>\n",
       "      <th>3</th>\n",
       "      <td>It was wonderful to be back in Missouri where ...</td>\n",
       "      <td>2018-03-14 23:49:09</td>\n",
       "    </tr>\n",
       "    <tr>\n",
       "      <th>4</th>\n",
       "      <td>Together, we are MAKING AMERICA GREAT AGAIN! h...</td>\n",
       "      <td>2018-03-14 22:36:12</td>\n",
       "    </tr>\n",
       "    <tr>\n",
       "      <th>5</th>\n",
       "      <td>Today the House took major steps toward securi...</td>\n",
       "      <td>2018-03-14 21:25:58</td>\n",
       "    </tr>\n",
       "    <tr>\n",
       "      <th>6</th>\n",
       "      <td>Thank you for hosting! #MAGA https://t.co/9pHH...</td>\n",
       "      <td>2018-03-14 21:20:42</td>\n",
       "    </tr>\n",
       "    <tr>\n",
       "      <th>7</th>\n",
       "      <td>We cannot keep a blind eye to the rampant unfa...</td>\n",
       "      <td>2018-03-14 14:37:36</td>\n",
       "    </tr>\n",
       "    <tr>\n",
       "      <th>8</th>\n",
       "      <td>Five of our incredible @Cabinet Secretaries ar...</td>\n",
       "      <td>2018-03-14 13:54:50</td>\n",
       "    </tr>\n",
       "    <tr>\n",
       "      <th>9</th>\n",
       "      <td>Perhaps at no time in history have the busines...</td>\n",
       "      <td>2018-03-14 13:12:09</td>\n",
       "    </tr>\n",
       "    <tr>\n",
       "      <th>10</th>\n",
       "      <td>Hundreds of good people, including very import...</td>\n",
       "      <td>2018-03-14 13:02:11</td>\n",
       "    </tr>\n",
       "    <tr>\n",
       "      <th>11</th>\n",
       "      <td>All across this nation, we pray for our countr...</td>\n",
       "      <td>2018-03-14 00:34:44</td>\n",
       "    </tr>\n",
       "    <tr>\n",
       "      <th>12</th>\n",
       "      <td>It was my great honor to deliver a message at ...</td>\n",
       "      <td>2018-03-14 00:25:59</td>\n",
       "    </tr>\n",
       "    <tr>\n",
       "      <th>13</th>\n",
       "      <td>If we don’t have a wall system, we’re not goin...</td>\n",
       "      <td>2018-03-13 22:23:26</td>\n",
       "    </tr>\n",
       "    <tr>\n",
       "      <th>14</th>\n",
       "      <td>California’s sanctuary policies are illegal an...</td>\n",
       "      <td>2018-03-13 15:27:18</td>\n",
       "    </tr>\n",
       "    <tr>\n",
       "      <th>15</th>\n",
       "      <td>“According to the Center for Immigration Studi...</td>\n",
       "      <td>2018-03-13 15:24:23</td>\n",
       "    </tr>\n",
       "    <tr>\n",
       "      <th>16</th>\n",
       "      <td>Heading to see the BORDER WALL prototypes in C...</td>\n",
       "      <td>2018-03-13 14:37:15</td>\n",
       "    </tr>\n",
       "    <tr>\n",
       "      <th>17</th>\n",
       "      <td>Mike Pompeo, Director of the CIA, will become ...</td>\n",
       "      <td>2018-03-13 12:44:33</td>\n",
       "    </tr>\n",
       "    <tr>\n",
       "      <th>18</th>\n",
       "      <td>The Economy is raging, at an all time high, an...</td>\n",
       "      <td>2018-03-13 12:28:03</td>\n",
       "    </tr>\n",
       "    <tr>\n",
       "      <th>19</th>\n",
       "      <td>THE HOUSE INTELLIGENCE COMMITTEE HAS, AFTER A ...</td>\n",
       "      <td>2018-03-13 00:49:27</td>\n",
       "    </tr>\n",
       "    <tr>\n",
       "      <th>20</th>\n",
       "      <td>It was my great honor to welcome the 2017 Worl...</td>\n",
       "      <td>2018-03-12 21:13:12</td>\n",
       "    </tr>\n",
       "    <tr>\n",
       "      <th>21</th>\n",
       "      <td>The Pittsburgh Post Gazette just endorsed Rick...</td>\n",
       "      <td>2018-03-12 14:43:36</td>\n",
       "    </tr>\n",
       "    <tr>\n",
       "      <th>22</th>\n",
       "      <td>If schools are mandated to be gun free zones, ...</td>\n",
       "      <td>2018-03-12 14:12:11</td>\n",
       "    </tr>\n",
       "    <tr>\n",
       "      <th>23</th>\n",
       "      <td>....On 18 to 21 Age Limits, watching court cas...</td>\n",
       "      <td>2018-03-12 13:22:38</td>\n",
       "    </tr>\n",
       "    <tr>\n",
       "      <th>24</th>\n",
       "      <td>Very strong improvement and strengthening of b...</td>\n",
       "      <td>2018-03-12 13:15:57</td>\n",
       "    </tr>\n",
       "    <tr>\n",
       "      <th>25</th>\n",
       "      <td>Secretary of Commerce Wilbur Ross will be spea...</td>\n",
       "      <td>2018-03-12 12:20:03</td>\n",
       "    </tr>\n",
       "    <tr>\n",
       "      <th>26</th>\n",
       "      <td>Rasmussen and others have my approval ratings ...</td>\n",
       "      <td>2018-03-11 15:16:22</td>\n",
       "    </tr>\n",
       "    <tr>\n",
       "      <th>27</th>\n",
       "      <td>The Democrats continue to Obstruct the confirm...</td>\n",
       "      <td>2018-03-11 14:49:29</td>\n",
       "    </tr>\n",
       "    <tr>\n",
       "      <th>28</th>\n",
       "      <td>The Republicans are 5-0 in recent Congressiona...</td>\n",
       "      <td>2018-03-11 14:02:23</td>\n",
       "    </tr>\n",
       "    <tr>\n",
       "      <th>29</th>\n",
       "      <td>...have shown conclusively that there was no C...</td>\n",
       "      <td>2018-03-11 13:50:47</td>\n",
       "    </tr>\n",
       "    <tr>\n",
       "      <th>...</th>\n",
       "      <td>...</td>\n",
       "      <td>...</td>\n",
       "    </tr>\n",
       "    <tr>\n",
       "      <th>170</th>\n",
       "      <td>Just watched a very insecure Oprah Winfrey, wh...</td>\n",
       "      <td>2018-02-19 04:28:40</td>\n",
       "    </tr>\n",
       "    <tr>\n",
       "      <th>171</th>\n",
       "      <td>My great friends from NASCAR are having their ...</td>\n",
       "      <td>2018-02-18 19:13:02</td>\n",
       "    </tr>\n",
       "    <tr>\n",
       "      <th>172</th>\n",
       "      <td>Thank you to KenStarr, former Independent Coun...</td>\n",
       "      <td>2018-02-18 17:10:32</td>\n",
       "    </tr>\n",
       "    <tr>\n",
       "      <th>173</th>\n",
       "      <td>Great Pollster John McLaughlin now has the GOP...</td>\n",
       "      <td>2018-02-18 13:55:55</td>\n",
       "    </tr>\n",
       "    <tr>\n",
       "      <th>174</th>\n",
       "      <td>The Fake News of big ratings loser CNN. https:...</td>\n",
       "      <td>2018-02-18 13:46:39</td>\n",
       "    </tr>\n",
       "    <tr>\n",
       "      <th>175</th>\n",
       "      <td>If it was the GOAL of Russia to create discord...</td>\n",
       "      <td>2018-02-18 13:11:28</td>\n",
       "    </tr>\n",
       "    <tr>\n",
       "      <th>176</th>\n",
       "      <td>RT @mike_pence: Big night. Largest-ever Dallas...</td>\n",
       "      <td>2018-02-18 12:53:11</td>\n",
       "    </tr>\n",
       "    <tr>\n",
       "      <th>177</th>\n",
       "      <td>Now that Adam Schiff is starting to blame Pres...</td>\n",
       "      <td>2018-02-18 12:43:48</td>\n",
       "    </tr>\n",
       "    <tr>\n",
       "      <th>178</th>\n",
       "      <td>I never said Russia did not meddle in the elec...</td>\n",
       "      <td>2018-02-18 12:33:16</td>\n",
       "    </tr>\n",
       "    <tr>\n",
       "      <th>179</th>\n",
       "      <td>Finally, Liddle’ Adam Schiff, the leakin’ mons...</td>\n",
       "      <td>2018-02-18 12:22:29</td>\n",
       "    </tr>\n",
       "    <tr>\n",
       "      <th>180</th>\n",
       "      <td>Never gotten over the fact that Obama was able...</td>\n",
       "      <td>2018-02-18 12:02:52</td>\n",
       "    </tr>\n",
       "    <tr>\n",
       "      <th>181</th>\n",
       "      <td>General McMaster forgot to say that the result...</td>\n",
       "      <td>2018-02-18 04:22:48</td>\n",
       "    </tr>\n",
       "    <tr>\n",
       "      <th>182</th>\n",
       "      <td>Very sad that the FBI missed all of the many s...</td>\n",
       "      <td>2018-02-18 04:08:45</td>\n",
       "    </tr>\n",
       "    <tr>\n",
       "      <th>183</th>\n",
       "      <td>Just like they don’t want to solve the DACA pr...</td>\n",
       "      <td>2018-02-17 23:45:28</td>\n",
       "    </tr>\n",
       "    <tr>\n",
       "      <th>184</th>\n",
       "      <td>“I have seen all of the Russian ads and I can ...</td>\n",
       "      <td>2018-02-17 20:16:39</td>\n",
       "    </tr>\n",
       "    <tr>\n",
       "      <th>185</th>\n",
       "      <td>The Fake News Media never fails. Hard to ignor...</td>\n",
       "      <td>2018-02-17 20:11:32</td>\n",
       "    </tr>\n",
       "    <tr>\n",
       "      <th>186</th>\n",
       "      <td>Funny how the Fake News Media doesn’t want to ...</td>\n",
       "      <td>2018-02-17 19:46:48</td>\n",
       "    </tr>\n",
       "    <tr>\n",
       "      <th>187</th>\n",
       "      <td>Deputy A.G. Rod Rosenstein stated at the News ...</td>\n",
       "      <td>2018-02-17 19:36:14</td>\n",
       "    </tr>\n",
       "    <tr>\n",
       "      <th>188</th>\n",
       "      <td>“Charges Deal Don A Big Win,” written by Micha...</td>\n",
       "      <td>2018-02-17 19:26:13</td>\n",
       "    </tr>\n",
       "    <tr>\n",
       "      <th>189</th>\n",
       "      <td>Melania and I met such incredible people last ...</td>\n",
       "      <td>2018-02-17 19:04:43</td>\n",
       "    </tr>\n",
       "    <tr>\n",
       "      <th>190</th>\n",
       "      <td>Our entire Nation, w/one heavy heart, continue...</td>\n",
       "      <td>2018-02-17 04:53:13</td>\n",
       "    </tr>\n",
       "    <tr>\n",
       "      <th>191</th>\n",
       "      <td>Russia started their anti-US campaign in 2014,...</td>\n",
       "      <td>2018-02-16 20:18:11</td>\n",
       "    </tr>\n",
       "    <tr>\n",
       "      <th>192</th>\n",
       "      <td>Cannot believe how BADLY DACA recipients have ...</td>\n",
       "      <td>2018-02-16 14:49:54</td>\n",
       "    </tr>\n",
       "    <tr>\n",
       "      <th>193</th>\n",
       "      <td>I will be leaving for Florida today to meet wi...</td>\n",
       "      <td>2018-02-16 14:37:56</td>\n",
       "    </tr>\n",
       "    <tr>\n",
       "      <th>194</th>\n",
       "      <td>Presidential Proclamation Honoring the Victims...</td>\n",
       "      <td>2018-02-15 20:19:11</td>\n",
       "    </tr>\n",
       "    <tr>\n",
       "      <th>195</th>\n",
       "      <td>...lottery, continues deadly catch-and-release...</td>\n",
       "      <td>2018-02-15 19:26:09</td>\n",
       "    </tr>\n",
       "    <tr>\n",
       "      <th>196</th>\n",
       "      <td>The Schumer-Rounds-Collins immigration bill wo...</td>\n",
       "      <td>2018-02-15 19:25:23</td>\n",
       "    </tr>\n",
       "    <tr>\n",
       "      <th>197</th>\n",
       "      <td>RT @SpoxDHS: Schumer-Rounds-Collins destroys t...</td>\n",
       "      <td>2018-02-15 19:22:16</td>\n",
       "    </tr>\n",
       "    <tr>\n",
       "      <th>198</th>\n",
       "      <td>In times of tragedy, the bonds that sustain us...</td>\n",
       "      <td>2018-02-15 17:33:41</td>\n",
       "    </tr>\n",
       "    <tr>\n",
       "      <th>199</th>\n",
       "      <td>While the Republicans and Democrats in Congres...</td>\n",
       "      <td>2018-02-15 14:57:21</td>\n",
       "    </tr>\n",
       "  </tbody>\n",
       "</table>\n",
       "<p>200 rows × 2 columns</p>\n",
       "</div>"
      ],
      "text/plain": [
       "                                                Tweets                Date\n",
       "0    We do have a Trade Deficit with Canada, as we ... 2018-03-15 13:29:25\n",
       "1    Larry Kudlow will be my Chief Economic Advisor... 2018-03-15 11:11:39\n",
       "2    Please join me with your thoughts and prayers ... 2018-03-15 04:31:47\n",
       "3    It was wonderful to be back in Missouri where ... 2018-03-14 23:49:09\n",
       "4    Together, we are MAKING AMERICA GREAT AGAIN! h... 2018-03-14 22:36:12\n",
       "5    Today the House took major steps toward securi... 2018-03-14 21:25:58\n",
       "6    Thank you for hosting! #MAGA https://t.co/9pHH... 2018-03-14 21:20:42\n",
       "7    We cannot keep a blind eye to the rampant unfa... 2018-03-14 14:37:36\n",
       "8    Five of our incredible @Cabinet Secretaries ar... 2018-03-14 13:54:50\n",
       "9    Perhaps at no time in history have the busines... 2018-03-14 13:12:09\n",
       "10   Hundreds of good people, including very import... 2018-03-14 13:02:11\n",
       "11   All across this nation, we pray for our countr... 2018-03-14 00:34:44\n",
       "12   It was my great honor to deliver a message at ... 2018-03-14 00:25:59\n",
       "13   If we don’t have a wall system, we’re not goin... 2018-03-13 22:23:26\n",
       "14   California’s sanctuary policies are illegal an... 2018-03-13 15:27:18\n",
       "15   “According to the Center for Immigration Studi... 2018-03-13 15:24:23\n",
       "16   Heading to see the BORDER WALL prototypes in C... 2018-03-13 14:37:15\n",
       "17   Mike Pompeo, Director of the CIA, will become ... 2018-03-13 12:44:33\n",
       "18   The Economy is raging, at an all time high, an... 2018-03-13 12:28:03\n",
       "19   THE HOUSE INTELLIGENCE COMMITTEE HAS, AFTER A ... 2018-03-13 00:49:27\n",
       "20   It was my great honor to welcome the 2017 Worl... 2018-03-12 21:13:12\n",
       "21   The Pittsburgh Post Gazette just endorsed Rick... 2018-03-12 14:43:36\n",
       "22   If schools are mandated to be gun free zones, ... 2018-03-12 14:12:11\n",
       "23   ....On 18 to 21 Age Limits, watching court cas... 2018-03-12 13:22:38\n",
       "24   Very strong improvement and strengthening of b... 2018-03-12 13:15:57\n",
       "25   Secretary of Commerce Wilbur Ross will be spea... 2018-03-12 12:20:03\n",
       "26   Rasmussen and others have my approval ratings ... 2018-03-11 15:16:22\n",
       "27   The Democrats continue to Obstruct the confirm... 2018-03-11 14:49:29\n",
       "28   The Republicans are 5-0 in recent Congressiona... 2018-03-11 14:02:23\n",
       "29   ...have shown conclusively that there was no C... 2018-03-11 13:50:47\n",
       "..                                                 ...                 ...\n",
       "170  Just watched a very insecure Oprah Winfrey, wh... 2018-02-19 04:28:40\n",
       "171  My great friends from NASCAR are having their ... 2018-02-18 19:13:02\n",
       "172  Thank you to KenStarr, former Independent Coun... 2018-02-18 17:10:32\n",
       "173  Great Pollster John McLaughlin now has the GOP... 2018-02-18 13:55:55\n",
       "174  The Fake News of big ratings loser CNN. https:... 2018-02-18 13:46:39\n",
       "175  If it was the GOAL of Russia to create discord... 2018-02-18 13:11:28\n",
       "176  RT @mike_pence: Big night. Largest-ever Dallas... 2018-02-18 12:53:11\n",
       "177  Now that Adam Schiff is starting to blame Pres... 2018-02-18 12:43:48\n",
       "178  I never said Russia did not meddle in the elec... 2018-02-18 12:33:16\n",
       "179  Finally, Liddle’ Adam Schiff, the leakin’ mons... 2018-02-18 12:22:29\n",
       "180  Never gotten over the fact that Obama was able... 2018-02-18 12:02:52\n",
       "181  General McMaster forgot to say that the result... 2018-02-18 04:22:48\n",
       "182  Very sad that the FBI missed all of the many s... 2018-02-18 04:08:45\n",
       "183  Just like they don’t want to solve the DACA pr... 2018-02-17 23:45:28\n",
       "184  “I have seen all of the Russian ads and I can ... 2018-02-17 20:16:39\n",
       "185  The Fake News Media never fails. Hard to ignor... 2018-02-17 20:11:32\n",
       "186  Funny how the Fake News Media doesn’t want to ... 2018-02-17 19:46:48\n",
       "187  Deputy A.G. Rod Rosenstein stated at the News ... 2018-02-17 19:36:14\n",
       "188  “Charges Deal Don A Big Win,” written by Micha... 2018-02-17 19:26:13\n",
       "189  Melania and I met such incredible people last ... 2018-02-17 19:04:43\n",
       "190  Our entire Nation, w/one heavy heart, continue... 2018-02-17 04:53:13\n",
       "191  Russia started their anti-US campaign in 2014,... 2018-02-16 20:18:11\n",
       "192  Cannot believe how BADLY DACA recipients have ... 2018-02-16 14:49:54\n",
       "193  I will be leaving for Florida today to meet wi... 2018-02-16 14:37:56\n",
       "194  Presidential Proclamation Honoring the Victims... 2018-02-15 20:19:11\n",
       "195  ...lottery, continues deadly catch-and-release... 2018-02-15 19:26:09\n",
       "196  The Schumer-Rounds-Collins immigration bill wo... 2018-02-15 19:25:23\n",
       "197  RT @SpoxDHS: Schumer-Rounds-Collins destroys t... 2018-02-15 19:22:16\n",
       "198  In times of tragedy, the bonds that sustain us... 2018-02-15 17:33:41\n",
       "199  While the Republicans and Democrats in Congres... 2018-02-15 14:57:21\n",
       "\n",
       "[200 rows x 2 columns]"
      ]
     },
     "execution_count": 9,
     "metadata": {},
     "output_type": "execute_result"
    }
   ],
   "source": [
    "data['Date'] = [x.created_at for x in tweets]\n",
    "data"
   ]
  },
  {
   "cell_type": "code",
   "execution_count": 10,
   "metadata": {},
   "outputs": [],
   "source": [
    "# We add relevant data:\n",
    "data['len']  = [len(x.text) for x in tweets]  # number of characters in a tweet (think length)\n",
    "data['ID']   = [x.id for x in tweets]\n",
    "data['Source'] = [x.source for x in tweets]\n",
    "data['Likes']  = [x.favorite_count for x in tweets] # favorite_count\n",
    "data['RTs']    =  [x.retweet_count for x in tweets]  # retweet count"
   ]
  },
  {
   "cell_type": "code",
   "execution_count": 11,
   "metadata": {},
   "outputs": [
    {
     "data": {
      "text/html": [
       "<div>\n",
       "<style scoped>\n",
       "    .dataframe tbody tr th:only-of-type {\n",
       "        vertical-align: middle;\n",
       "    }\n",
       "\n",
       "    .dataframe tbody tr th {\n",
       "        vertical-align: top;\n",
       "    }\n",
       "\n",
       "    .dataframe thead th {\n",
       "        text-align: right;\n",
       "    }\n",
       "</style>\n",
       "<table border=\"1\" class=\"dataframe\">\n",
       "  <thead>\n",
       "    <tr style=\"text-align: right;\">\n",
       "      <th></th>\n",
       "      <th>Tweets</th>\n",
       "      <th>Date</th>\n",
       "      <th>len</th>\n",
       "      <th>ID</th>\n",
       "      <th>Source</th>\n",
       "      <th>Likes</th>\n",
       "      <th>RTs</th>\n",
       "    </tr>\n",
       "  </thead>\n",
       "  <tbody>\n",
       "    <tr>\n",
       "      <th>0</th>\n",
       "      <td>We do have a Trade Deficit with Canada, as we ...</td>\n",
       "      <td>2018-03-15 13:29:25</td>\n",
       "      <td>140</td>\n",
       "      <td>974276383051583488</td>\n",
       "      <td>Twitter for iPhone</td>\n",
       "      <td>28962</td>\n",
       "      <td>7006</td>\n",
       "    </tr>\n",
       "    <tr>\n",
       "      <th>1</th>\n",
       "      <td>Larry Kudlow will be my Chief Economic Advisor...</td>\n",
       "      <td>2018-03-15 11:11:39</td>\n",
       "      <td>139</td>\n",
       "      <td>974241711315709954</td>\n",
       "      <td>Twitter for iPhone</td>\n",
       "      <td>41102</td>\n",
       "      <td>9746</td>\n",
       "    </tr>\n",
       "    <tr>\n",
       "      <th>2</th>\n",
       "      <td>Please join me with your thoughts and prayers ...</td>\n",
       "      <td>2018-03-15 04:31:47</td>\n",
       "      <td>131</td>\n",
       "      <td>974141083054690304</td>\n",
       "      <td>Twitter for iPhone</td>\n",
       "      <td>45304</td>\n",
       "      <td>10905</td>\n",
       "    </tr>\n",
       "    <tr>\n",
       "      <th>3</th>\n",
       "      <td>It was wonderful to be back in Missouri where ...</td>\n",
       "      <td>2018-03-14 23:49:09</td>\n",
       "      <td>140</td>\n",
       "      <td>974069957905428481</td>\n",
       "      <td>Twitter for iPhone</td>\n",
       "      <td>50090</td>\n",
       "      <td>11675</td>\n",
       "    </tr>\n",
       "    <tr>\n",
       "      <th>4</th>\n",
       "      <td>Together, we are MAKING AMERICA GREAT AGAIN! h...</td>\n",
       "      <td>2018-03-14 22:36:12</td>\n",
       "      <td>68</td>\n",
       "      <td>974051595834003457</td>\n",
       "      <td>Twitter for iPhone</td>\n",
       "      <td>51403</td>\n",
       "      <td>10924</td>\n",
       "    </tr>\n",
       "    <tr>\n",
       "      <th>5</th>\n",
       "      <td>Today the House took major steps toward securi...</td>\n",
       "      <td>2018-03-14 21:25:58</td>\n",
       "      <td>140</td>\n",
       "      <td>974033924493111296</td>\n",
       "      <td>Twitter for iPhone</td>\n",
       "      <td>74009</td>\n",
       "      <td>16847</td>\n",
       "    </tr>\n",
       "    <tr>\n",
       "      <th>6</th>\n",
       "      <td>Thank you for hosting! #MAGA https://t.co/9pHH...</td>\n",
       "      <td>2018-03-14 21:20:42</td>\n",
       "      <td>52</td>\n",
       "      <td>974032596563832832</td>\n",
       "      <td>Twitter for iPhone</td>\n",
       "      <td>29503</td>\n",
       "      <td>6052</td>\n",
       "    </tr>\n",
       "    <tr>\n",
       "      <th>7</th>\n",
       "      <td>We cannot keep a blind eye to the rampant unfa...</td>\n",
       "      <td>2018-03-14 14:37:36</td>\n",
       "      <td>85</td>\n",
       "      <td>973931154796457984</td>\n",
       "      <td>Twitter for iPhone</td>\n",
       "      <td>73212</td>\n",
       "      <td>14706</td>\n",
       "    </tr>\n",
       "    <tr>\n",
       "      <th>8</th>\n",
       "      <td>Five of our incredible @Cabinet Secretaries ar...</td>\n",
       "      <td>2018-03-14 13:54:50</td>\n",
       "      <td>140</td>\n",
       "      <td>973920392543793154</td>\n",
       "      <td>Twitter for iPhone</td>\n",
       "      <td>47949</td>\n",
       "      <td>11334</td>\n",
       "    </tr>\n",
       "    <tr>\n",
       "      <th>9</th>\n",
       "      <td>Perhaps at no time in history have the busines...</td>\n",
       "      <td>2018-03-14 13:12:09</td>\n",
       "      <td>111</td>\n",
       "      <td>973909651065528320</td>\n",
       "      <td>Twitter for iPhone</td>\n",
       "      <td>64429</td>\n",
       "      <td>12638</td>\n",
       "    </tr>\n",
       "  </tbody>\n",
       "</table>\n",
       "</div>"
      ],
      "text/plain": [
       "                                              Tweets                Date  len  \\\n",
       "0  We do have a Trade Deficit with Canada, as we ... 2018-03-15 13:29:25  140   \n",
       "1  Larry Kudlow will be my Chief Economic Advisor... 2018-03-15 11:11:39  139   \n",
       "2  Please join me with your thoughts and prayers ... 2018-03-15 04:31:47  131   \n",
       "3  It was wonderful to be back in Missouri where ... 2018-03-14 23:49:09  140   \n",
       "4  Together, we are MAKING AMERICA GREAT AGAIN! h... 2018-03-14 22:36:12   68   \n",
       "5  Today the House took major steps toward securi... 2018-03-14 21:25:58  140   \n",
       "6  Thank you for hosting! #MAGA https://t.co/9pHH... 2018-03-14 21:20:42   52   \n",
       "7  We cannot keep a blind eye to the rampant unfa... 2018-03-14 14:37:36   85   \n",
       "8  Five of our incredible @Cabinet Secretaries ar... 2018-03-14 13:54:50  140   \n",
       "9  Perhaps at no time in history have the busines... 2018-03-14 13:12:09  111   \n",
       "\n",
       "                   ID              Source  Likes    RTs  \n",
       "0  974276383051583488  Twitter for iPhone  28962   7006  \n",
       "1  974241711315709954  Twitter for iPhone  41102   9746  \n",
       "2  974141083054690304  Twitter for iPhone  45304  10905  \n",
       "3  974069957905428481  Twitter for iPhone  50090  11675  \n",
       "4  974051595834003457  Twitter for iPhone  51403  10924  \n",
       "5  974033924493111296  Twitter for iPhone  74009  16847  \n",
       "6  974032596563832832  Twitter for iPhone  29503   6052  \n",
       "7  973931154796457984  Twitter for iPhone  73212  14706  \n",
       "8  973920392543793154  Twitter for iPhone  47949  11334  \n",
       "9  973909651065528320  Twitter for iPhone  64429  12638  "
      ]
     },
     "metadata": {},
     "output_type": "display_data"
    }
   ],
   "source": [
    "# Display of first 10 elements from dataframe:\n",
    "display(data.head(10))"
   ]
  },
  {
   "cell_type": "markdown",
   "metadata": {},
   "source": [
    "**What is the average length of tweet?**"
   ]
  },
  {
   "cell_type": "code",
   "execution_count": 12,
   "metadata": {},
   "outputs": [
    {
     "name": "stdout",
     "output_type": "stream",
     "text": [
      "The average length of the tweets: 125.865\n"
     ]
    }
   ],
   "source": [
    "mean = data['len'].mean()\n",
    "print(\"The average length of the tweets: {}\".format(mean))"
   ]
  },
  {
   "cell_type": "markdown",
   "metadata": {},
   "source": [
    "**Which tweet had the most likes?**"
   ]
  },
  {
   "cell_type": "code",
   "execution_count": 13,
   "metadata": {},
   "outputs": [
    {
     "name": "stdout",
     "output_type": "stream",
     "text": [
      "The tweet with more likes is: \n",
      "Lowest rated Oscars in HISTORY. Problem is, we don’t have Stars anymore - except your President (just kidding, of course)!\n",
      "Number of likes: 213335\n",
      "122 characters.\n",
      "\n"
     ]
    }
   ],
   "source": [
    "fav_max = data['Likes'].max()\n",
    "fav_tweet = data[data['Likes'] == fav_max]\n",
    "\n",
    "# Max FAVs:\n",
    "print(\"The tweet with more likes is: \\n{}\".format(np.array(fav_tweet['Tweets'])[0]))\n",
    "print(\"Number of likes: {}\".format(fav_max))\n",
    "print(\"{} characters.\\n\".format(np.array(fav_tweet['len'])[0]))"
   ]
  },
  {
   "cell_type": "markdown",
   "metadata": {},
   "source": [
    "**Which tweet had the most retweets (RTs)?**"
   ]
  },
  {
   "cell_type": "code",
   "execution_count": 14,
   "metadata": {},
   "outputs": [
    {
     "name": "stdout",
     "output_type": "stream",
     "text": [
      "The tweet with more retweets is: \n",
      "Lowest rated Oscars in HISTORY. Problem is, we don’t have Stars anymore - except your President (just kidding, of course)!\n",
      "Number of retweets: 59723\n",
      "122 characters.\n",
      "\n"
     ]
    }
   ],
   "source": [
    "rt_max = data['RTs'].max()\n",
    "rt_tweet = data[data['RTs'] == rt_max]\n",
    "# Max RTs:\n",
    "print(\"The tweet with more retweets is: \\n{}\".format(np.array(rt_tweet['Tweets'])[0]))\n",
    "print(\"Number of retweets: {}\".format(rt_max))\n",
    "print(\"{} characters.\\n\".format(np.array(rt_tweet['len'])[0]))"
   ]
  },
  {
   "cell_type": "markdown",
   "metadata": {},
   "source": [
    "## Time series\n",
    "\n",
    "Note that earlier, we added a `Date` column to our `DataFrame` containing tweet data. This means we can plot or analyze time series data directly from Pandas `Series` objects. For example:"
   ]
  },
  {
   "cell_type": "code",
   "execution_count": 15,
   "metadata": {},
   "outputs": [],
   "source": [
    "# We can create a time series of tweet length like this\n",
    "tlen = pd.Series(data=data['len'].values, index=data['Date'])"
   ]
  },
  {
   "cell_type": "code",
   "execution_count": 16,
   "metadata": {},
   "outputs": [
    {
     "data": {
      "text/plain": [
       "<matplotlib.axes._subplots.AxesSubplot at 0x1145787f0>"
      ]
     },
     "execution_count": 16,
     "metadata": {},
     "output_type": "execute_result"
    },
    {
     "data": {
      "image/png": "[encoded data removed]",
      "text/plain": [
       "<Figure size 1152x288 with 1 Axes>"
      ]
     },
     "metadata": {},
     "output_type": "display_data"
    }
   ],
   "source": [
    "# ...and plot it against time\n",
    "tlen.plot(figsize=(16,4), color='r')"
   ]
  },
  {
   "cell_type": "code",
   "execution_count": 17,
   "metadata": {},
   "outputs": [
    {
     "data": {
      "text/plain": [
       "<matplotlib.axes._subplots.AxesSubplot at 0x114661b00>"
      ]
     },
     "execution_count": 17,
     "metadata": {},
     "output_type": "execute_result"
    },
    {
     "data": {
      "image/png": "[encoded data removed]",
      "text/plain": [
       "<Figure size 1152x288 with 1 Axes>"
      ]
     },
     "metadata": {},
     "output_type": "display_data"
    }
   ],
   "source": [
    "# Plot a likes vs retweets visualization, by getting the time series \n",
    "# for favourites and of retweets\n",
    "tfav = pd.Series(data=data['Likes'].values, index=data['Date'])\n",
    "tret = pd.Series(data=data['RTs'].values, index=data['Date'])\n",
    "\n",
    "tfav.plot(figsize=(16,4), label=\"Likes\", legend=True)\n",
    "tret.plot(figsize=(16,4), label=\"Retweets\", legend=True)"
   ]
  },
  {
   "cell_type": "markdown",
   "metadata": {},
   "source": [
    "When you're finished with lab 8 (or had completed what you can), choose **Save and Checkpoint** from the **File** menu, then choose **Download as Notebook** and save it to your computer or USB stick. You can then send a copy to the lecturer via Slack or email to check over."
   ]
  },
  {
   "cell_type": "code",
   "execution_count": null,
   "metadata": {},
   "outputs": [],
   "source": []
  }
 ],
 "metadata": {
  "kernelspec": {
   "display_name": "Python 3",
   "language": "python",
   "name": "python3"
  },
  "language_info": {
   "codemirror_mode": {
    "name": "ipython",
    "version": 3
   },
   "file_extension": ".py",
   "mimetype": "text/x-python",
   "name": "python",
   "nbconvert_exporter": "python",
   "pygments_lexer": "ipython3",
   "version": "3.7.0"
  }
 },
 "nbformat": 4,
 "nbformat_minor": 1
}
