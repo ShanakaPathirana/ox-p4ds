{
 "cells": [
  {
   "cell_type": "markdown",
   "metadata": {},
   "source": [
    "# Exercise 11 - Statistics on the Iris Dataset"
   ]
  },
  {
   "cell_type": "markdown",
   "metadata": {},
   "source": [
    "Let's consider the Iris Dataset that we used the other week."
   ]
  },
  {
   "cell_type": "code",
   "execution_count": null,
   "metadata": {},
   "outputs": [],
   "source": [
    "from bokeh.sampledata.iris import flowers"
   ]
  },
  {
   "cell_type": "code",
   "execution_count": null,
   "metadata": {},
   "outputs": [],
   "source": [
    "flowers.head()"
   ]
  },
  {
   "cell_type": "markdown",
   "metadata": {},
   "source": [
    "### Categorical vs Quantitative Variables\n",
    "\n",
    "\"sepal_length\", \"sepal_width\", \"petal_length\", \"petal_width\" are quantitative (i.e. numerical) variables. \"species\" is a categorical (i.e. with a limited number of values) variable. \"Species\" can assume three values: \"virginica\", \"versicolor\", and \"setosa\". Verify this on the Dataframe"
   ]
  },
  {
   "cell_type": "code",
   "execution_count": 5,
   "metadata": {},
   "outputs": [],
   "source": [
    "# here verify that \"species\" only allows three different values\n",
    "..."
   ]
  },
  {
   "cell_type": "markdown",
   "metadata": {},
   "source": [
    "### Histograms and KDE\n",
    "Using your visualization library of choice (matplotlib, seaborn or bokeh) plot the histograms and the Kernel Density Estimate (KDE) of the \"sepal_width\" variable within the sample for each species (\"virginica\", \"versicolor\", and \"setosa\"). You should produce three histograms and KDE."
   ]
  },
  {
   "cell_type": "code",
   "execution_count": null,
   "metadata": {},
   "outputs": [],
   "source": [
    "import matplotlib.pyplot as plt\n",
    "# you can use the property 'column' of DataFrame.plot.hist to specify the 'sepal_width' column, and the 'by' property\n",
    "# to plot histograms for each separate groups"
   ]
  },
  {
   "cell_type": "code",
   "execution_count": null,
   "metadata": {},
   "outputs": [],
   "source": [
    "# an option to plot the KDEs would be to create a DataFrame per categorical variable, and then use the Data\n",
    "sepal_width = flowers[['sepal_width', 'species']].copy()\n",
    "virginica = sepal_width[(sepal_width['species'] == ...)]\n"
   ]
  },
  {
   "cell_type": "markdown",
   "metadata": {},
   "source": [
    "### T-test\n",
    "Following the example shown during the class, execute and independent T-test to compare the means of the 'sepal_with' between 'virginica' and 'setosa'. Feel free to verify that the assumptions are validated"
   ]
  },
  {
   "cell_type": "code",
   "execution_count": 32,
   "metadata": {},
   "outputs": [],
   "source": [
    "from scipy import stats\n",
    "# Run you test and verify the test assumptions here"
   ]
  },
  {
   "cell_type": "markdown",
   "metadata": {},
   "source": [
    "### ANOVA\n",
    "\n",
    "Similarly to the t-test, run ANOVA to compare the means across the three categories \n",
    "('virginica', 'versicolor' and 'setosa'). Then run a Bonferroni correction post hoc test to verify which of the\n",
    "categories show different means, if any"
   ]
  },
  {
   "cell_type": "code",
   "execution_count": null,
   "metadata": {},
   "outputs": [],
   "source": [
    "# write your ANOVA test here"
   ]
  }
 ],
 "metadata": {
  "kernelspec": {
   "display_name": "Python 3",
   "language": "python",
   "name": "python3"
  },
  "language_info": {
   "codemirror_mode": {
    "name": "ipython",
    "version": 3
   },
   "file_extension": ".py",
   "mimetype": "text/x-python",
   "name": "python",
   "nbconvert_exporter": "python",
   "pygments_lexer": "ipython3",
   "version": "3.6.5"
  }
 },
 "nbformat": 4,
 "nbformat_minor": 2
}
