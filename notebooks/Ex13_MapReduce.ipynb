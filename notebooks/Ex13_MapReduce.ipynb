{
 "cells": [
  {
   "cell_type": "markdown",
   "metadata": {},
   "source": [
    "# Exercise 13: MapReduce\n",
    "\n",
    "Welcome to exercise 13! This exercise is another free-form challenge, just like with exercise 8 that was focused on the London 2012 athletes dataset. This time, I want you to see if you can answer some questions on a dataset, but only by using the MapReduce programming model.\n",
    "\n",
    "<img src=\"images/mapreduce.jpg\"/>\n",
    "\n",
    "First, run the cell below to view a sample of 10 rows from the text file `nasa_access_log_aug95_sample.txt`. "
   ]
  },
  {
   "cell_type": "code",
   "execution_count": 1,
   "metadata": {},
   "outputs": [
    {
     "name": "stdout",
     "output_type": "stream",
     "text": [
      "159.142.165.138 - - [15/Aug/1995:11:03:22 -0400] \"GET /shuttle/missions/sts-73/sts-73-patch-small.gif HTTP/1.0\" 200 4179\n",
      "\n",
      "134.131.38.18 - - [22/Aug/1995:13:43:38 -0400] \"GET /shuttle/missions/sts-73/sts-73-patch-small.gif HTTP/1.0\" 200 4179\n",
      "\n",
      "os2c14.aca.ilstu.edu - - [31/Aug/1995:21:47:11 -0400] \"GET /shuttle/missions/sts-69/sts-69-patch-small.gif HTTP/1.0\" 200 8083\n",
      "\n",
      "suba01.suba.com - - [24/Aug/1995:04:48:23 -0400] \"GET /htbin/wais.pl?TISP HTTP/1.0\" 200 1349\n",
      "\n",
      "146.138.145.170 - - [08/Aug/1995:16:30:51 -0400] \"GET /shuttle/missions/sts-62/sts-62-patch-small.gif HTTP/1.0\" 200 14385\n",
      "\n",
      "pizza.innet.net - - [24/Aug/1995:18:22:52 -0400] \"GET /history/apollo/images/apollo-logo1.gif HTTP/1.0\" 200 1173\n",
      "\n",
      "uplherc.upl.com - - [01/Aug/1995:00:00:10 -0400] \"GET /images/WORLD-logosmall.gif HTTP/1.0\" 304 0\n",
      "\n",
      "205.129.171.133 - - [16/Aug/1995:14:13:00 -0400] \"GET /images/launch-logo.gif HTTP/1.0\" 200 1713\n",
      "\n",
      "icenet.blackice.com.au - - [16/Aug/1995:07:52:55 -0400] \"GET /history/apollo/images/apollo.gif HTTP/1.0\" 200 28847\n",
      "\n",
      "qa2.silverplatter.com - - [23/Aug/1995:12:55:43 -0400] \"GET /history/mercury/mr-3/mr-3-patch-small.gif HTTP/1.0\" 200 19084\n",
      "\n"
     ]
    }
   ],
   "source": [
    "# The function islice thats the list of lines returned by the \n",
    "# open( ... ) command and returns a slice of only 10 of those lines.\n",
    "\n",
    "from itertools import islice\n",
    "with open('nasa_access_log_aug95_sample.txt') as file_pointer:\n",
    "    for line in list(islice(file_pointer, 10)):\n",
    "        print(line)"
   ]
  },
  {
   "cell_type": "markdown",
   "metadata": {
    "collapsed": true
   },
   "source": [
    "## The Challenge (part A)\n",
    "\n",
    "Unlike the previous exercises, I have not provided you with a CSV file. This is a file that contains lines of text that is the format output by the Apache HTTP Server -- one of the most popular Web servers on the Internet -- where the lines are in a standardised format (see the [Common Log Format](https://en.wikipedia.org/wiki/Common_Log_Format) for details), but not comma-separated.\n",
    "\n",
    "The first part of the challenge is to create a CSV file from this log file. As an example, I have written a few lines below that work on replacing ` - - ` with a comma `,`. You can use what you have alread learned about string replacement to try and create what you think is a sensible split of columns, split by commas."
   ]
  },
  {
   "cell_type": "code",
   "execution_count": 2,
   "metadata": {},
   "outputs": [
    {
     "name": "stdout",
     "output_type": "stream",
     "text": [
      "159.142.165.138,[15/Aug/1995:11:03:22 -0400] \"GET /shuttle/missions/sts-73/sts-73-patch-small.gif HTTP/1.0\" 200 4179\n",
      "\n",
      "134.131.38.18,[22/Aug/1995:13:43:38 -0400] \"GET /shuttle/missions/sts-73/sts-73-patch-small.gif HTTP/1.0\" 200 4179\n",
      "\n",
      "os2c14.aca.ilstu.edu,[31/Aug/1995:21:47:11 -0400] \"GET /shuttle/missions/sts-69/sts-69-patch-small.gif HTTP/1.0\" 200 8083\n",
      "\n",
      "suba01.suba.com,[24/Aug/1995:04:48:23 -0400] \"GET /htbin/wais.pl?TISP HTTP/1.0\" 200 1349\n",
      "\n",
      "146.138.145.170,[08/Aug/1995:16:30:51 -0400] \"GET /shuttle/missions/sts-62/sts-62-patch-small.gif HTTP/1.0\" 200 14385\n",
      "\n",
      "pizza.innet.net,[24/Aug/1995:18:22:52 -0400] \"GET /history/apollo/images/apollo-logo1.gif HTTP/1.0\" 200 1173\n",
      "\n",
      "uplherc.upl.com,[01/Aug/1995:00:00:10 -0400] \"GET /images/WORLD-logosmall.gif HTTP/1.0\" 304 0\n",
      "\n",
      "205.129.171.133,[16/Aug/1995:14:13:00 -0400] \"GET /images/launch-logo.gif HTTP/1.0\" 200 1713\n",
      "\n",
      "icenet.blackice.com.au,[16/Aug/1995:07:52:55 -0400] \"GET /history/apollo/images/apollo.gif HTTP/1.0\" 200 28847\n",
      "\n",
      "qa2.silverplatter.com,[23/Aug/1995:12:55:43 -0400] \"GET /history/mercury/mr-3/mr-3-patch-small.gif HTTP/1.0\" 200 19084\n",
      "\n"
     ]
    }
   ],
   "source": [
    "from itertools import islice\n",
    "with open('nasa_access_log_aug95_sample.txt') as file_pointer:\n",
    "    for line in list(islice(file_pointer, 10)):\n",
    "        # The following line simply takes the line read and does a string replacement\n",
    "        print(line.replace(' - - ', ','))"
   ]
  },
  {
   "cell_type": "markdown",
   "metadata": {},
   "source": [
    "Modify the code below to write out the `nasa_access_log_aug95_sample.csv` file with your string replacements to turn the input into a CSV file that can be read using `pandas`."
   ]
  },
  {
   "cell_type": "code",
   "execution_count": null,
   "metadata": {},
   "outputs": [],
   "source": [
    "from itertools import islice\n",
    "with open('nasa_access_log_aug95_sample.txt') as input_file_pointer:\n",
    "    with open('nasa_access_log_aug95_sample.csv', 'w') as output_file_pointer:\n",
    "        for line in input_file_pointer:\n",
    "            output_file_pointer.write(\"{line}\".format(line=line.replace(' - - ', ',')))"
   ]
  },
  {
   "cell_type": "code",
   "execution_count": null,
   "metadata": {},
   "outputs": [],
   "source": [
    "import pandas as pd\n",
    "df = pd.read_csv('nasa_access_log_aug95_sample.csv', error_bad_lines=False, warn_bad_lines=False).sample(25)\n",
    "df.columns = ['Address', 'The rest']\n",
    "df"
   ]
  },
  {
   "cell_type": "markdown",
   "metadata": {},
   "source": [
    "## The Challenge (part B)\n",
    "\n",
    "By adding your own code in your own Jupyter Notebook cells below (you can add a cell by pressing the + button in the toolbar), try and answer some of the following questions about this data set:\n",
    "\n",
    "- Which files were most popular in terms of `GET` requests?\n",
    "- What day were the most HTTP requests made to the server?\n",
    "- How many HTTP 200 (OK) responses were made?\n",
    "- How many other HTTP code responses were made? Hint: here is a [list of HTTP response codes](https://en.wikipedia.org/wiki/List_of_HTTP_status_codes)\n",
    "- What were the biggest, smallest and average file sizes served?\n",
    "\n",
    "**Important: I want you to try and complete this exercise using the MapReduce programming model. If you find this too difficult, go ahead an use `pandas` anyway as this is still a very challenging lab.**\n",
    "\n",
    "If you comfortably work out answers for all of these, feel free to add your own analyses!\n",
    "\n",
    "When you're finished with exercise 13 (or completed what you can!),\n",
    "\n",
    "If you are running this notebook using Binder, choose **Save and Checkpoint** from the **File** menu, **rename** your notebook to add a hyphen and your initials to the notebook name e.g. `Ex13_MapReduce-DJ`, then choose **Download as Notebook** and save it to your computer or USB stick.\n",
    "\n",
    "If you are running this notebook on your own machine, choose **Save and Checkpoint** from the **File** menu, choose **Make a copy** from the **File** menu, then **rename** your notebook to add a hyphen and your initials to the notebook name e.g. rename from `Ex13_MapReduce-Copy1` to `Ex13_MapReduce-DJ`."
   ]
  },
  {
   "cell_type": "markdown",
   "metadata": {},
   "source": [
    "# Bonus Challenge\n",
    "\n",
    "If you are feeling *really* adventurous, you can try using a Python library to do geographical-IP lookups to do some analyses. You will need to open up the command line and install the library called `geolite2`. To do this, open your command-line (e.g. Terminal on Mac or Command Prompt on Windows or Git Bash etc.) and type the following:\n",
    "\n",
    "```\n",
    "$  pip install maxminddb-geolite2\n",
    "```\n",
    "\n",
    "Another way to install `geolite2` from Jupyter is to create a new code cell and enter and run:\n",
    "\n",
    "```\n",
    "!pip install maxminddb-geolite2\n",
    "```\n",
    "\n",
    "Once `pip` has installed `geolite2`, if you restart Jupyter Notebook, you should be able to use it similar to as follows:"
   ]
  },
  {
   "cell_type": "code",
   "execution_count": null,
   "metadata": {},
   "outputs": [],
   "source": [
    "from geolite2 import geolite2\n",
    "reader = geolite2.reader()\n",
    "reader.get('1.1.1.1')"
   ]
  },
  {
   "cell_type": "markdown",
   "metadata": {},
   "source": [
    "The `reader.get( ... )` line takes an IP address and looks up the geographical information about it, and returns a Python dictionary. You can now select specific geographical information about the IP address. For example"
   ]
  },
  {
   "cell_type": "code",
   "execution_count": null,
   "metadata": {},
   "outputs": [],
   "source": [
    "# Get the country, in particular the English name\n",
    "geo_dict = reader.get('1.1.1.1')\n",
    "geo_dict['country']['names']['en']"
   ]
  },
  {
   "cell_type": "code",
   "execution_count": null,
   "metadata": {},
   "outputs": [],
   "source": [
    "# Get the continent, in particular the English name\n",
    "geo_dict = reader.get('1.1.1.1')\n",
    "geo_dict['continent']['names']['en']"
   ]
  },
  {
   "cell_type": "markdown",
   "metadata": {},
   "source": [
    "I have not tested this, so I will leave it to you to work out for yourselves if you take on this Bonus Challenge!"
   ]
  },
  {
   "cell_type": "code",
   "execution_count": null,
   "metadata": {},
   "outputs": [],
   "source": []
  }
 ],
 "metadata": {
  "kernelspec": {
   "display_name": "Python 3",
   "language": "python",
   "name": "python3"
  },
  "language_info": {
   "codemirror_mode": {
    "name": "ipython",
    "version": 3
   },
   "file_extension": ".py",
   "mimetype": "text/x-python",
   "name": "python",
   "nbconvert_exporter": "python",
   "pygments_lexer": "ipython3",
   "version": "3.6.8"
  }
 },
 "nbformat": 4,
 "nbformat_minor": 1
}
